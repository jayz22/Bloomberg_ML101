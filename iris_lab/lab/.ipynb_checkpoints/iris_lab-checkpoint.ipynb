{
 "cells": [
  {
   "cell_type": "markdown",
   "metadata": {},
   "source": [
    "# ML1 Lab"
   ]
  },
  {
   "cell_type": "markdown",
   "metadata": {},
   "source": [
    "Welcome to ML1!   This lab will use the famous Iris data set to introduce you to common python ML tools.  You will explore, analyze, and then build and tune models to predict flower species.   Click [here](https://en.wikipedia.org/wiki/Iris_flower_data_set) for more about the Iris dataset."
   ]
  },
  {
   "cell_type": "markdown",
   "metadata": {},
   "source": [
    "## About the tools"
   ]
  },
  {
   "cell_type": "markdown",
   "metadata": {},
   "source": [
    "Scientific python uses a set of libraries that build on one another.  Here's a one-line intro to each, from  lowest level to highest.\n",
    "\n",
    "* __NumPy__:      fast vector and matrix math\n",
    "* __pandas__:     Tools to read/write/manipulate data with a structure called the DataFrame.  A bit like Excel.\n",
    "* __SciPy__:      scientific computation code,like Linear Regression and sparse matrices\n",
    "* __scikit-learn__: ML algorithms and helper routines, such as feature extraction\n",
    "* __Matplotlib__: graphing stuff!\n",
    "* __Jupyter notebooks__: the web-based UI you are using now that allows text, code, and output to be shared,edited, and viewed."
   ]
  },
  {
   "cell_type": "markdown",
   "metadata": {},
   "source": [
    "## Getting Around"
   ]
  },
  {
   "cell_type": "markdown",
   "metadata": {},
   "source": [
    "Not familar with notebooks?   Think of it as a fancy word processor.   Each section is a cell that can contain text or code.  When code is run, output is shown below. A good introductory tutorial can be found [ here ](https://www.dataquest.io/blog/jupyter-notebook-tutorial).\n",
    "\n",
    "Now, let's get started!"
   ]
  },
  {
   "cell_type": "code",
   "execution_count": 45,
   "metadata": {},
   "outputs": [],
   "source": [
    "import pandas as pd\n",
    "import numpy as np"
   ]
  },
  {
   "cell_type": "markdown",
   "metadata": {},
   "source": [
    "## Loading data"
   ]
  },
  {
   "cell_type": "markdown",
   "metadata": {},
   "source": [
    "To analyze data, we are going to need to import it from an external source first! Let's use the popular, high-level library `pandas` to load the Iris data csv as a `DataFrame`."
   ]
  },
  {
   "cell_type": "code",
   "execution_count": 46,
   "metadata": {},
   "outputs": [],
   "source": [
    "iris_csv_path = './data/iris.data'\n",
    "iris_df = pd.read_csv(iris_csv_path)"
   ]
  },
  {
   "cell_type": "markdown",
   "metadata": {},
   "source": [
    "`DataFrames` are tabular data structures; let's sample a few rows at random to get a preliminary sense of our table:"
   ]
  },
  {
   "cell_type": "code",
   "execution_count": 47,
   "metadata": {},
   "outputs": [
    {
     "data": {
      "text/html": [
       "<div>\n",
       "<style scoped>\n",
       "    .dataframe tbody tr th:only-of-type {\n",
       "        vertical-align: middle;\n",
       "    }\n",
       "\n",
       "    .dataframe tbody tr th {\n",
       "        vertical-align: top;\n",
       "    }\n",
       "\n",
       "    .dataframe thead th {\n",
       "        text-align: right;\n",
       "    }\n",
       "</style>\n",
       "<table border=\"1\" class=\"dataframe\">\n",
       "  <thead>\n",
       "    <tr style=\"text-align: right;\">\n",
       "      <th></th>\n",
       "      <th>sepal_length</th>\n",
       "      <th>sepal_width</th>\n",
       "      <th>petal_length</th>\n",
       "      <th>petal_width</th>\n",
       "      <th>class</th>\n",
       "    </tr>\n",
       "  </thead>\n",
       "  <tbody>\n",
       "    <tr>\n",
       "      <th>28</th>\n",
       "      <td>5.2</td>\n",
       "      <td>3.4</td>\n",
       "      <td>1.4</td>\n",
       "      <td>0.2</td>\n",
       "      <td>Iris-setosa</td>\n",
       "    </tr>\n",
       "    <tr>\n",
       "      <th>38</th>\n",
       "      <td>4.4</td>\n",
       "      <td>3.0</td>\n",
       "      <td>1.3</td>\n",
       "      <td>0.2</td>\n",
       "      <td>Iris-setosa</td>\n",
       "    </tr>\n",
       "    <tr>\n",
       "      <th>19</th>\n",
       "      <td>5.1</td>\n",
       "      <td>3.8</td>\n",
       "      <td>1.5</td>\n",
       "      <td>0.3</td>\n",
       "      <td>Iris-setosa</td>\n",
       "    </tr>\n",
       "    <tr>\n",
       "      <th>88</th>\n",
       "      <td>5.6</td>\n",
       "      <td>3.0</td>\n",
       "      <td>4.1</td>\n",
       "      <td>1.3</td>\n",
       "      <td>Iris-versicolor</td>\n",
       "    </tr>\n",
       "    <tr>\n",
       "      <th>137</th>\n",
       "      <td>6.4</td>\n",
       "      <td>3.1</td>\n",
       "      <td>5.5</td>\n",
       "      <td>1.8</td>\n",
       "      <td>Iris-virginica</td>\n",
       "    </tr>\n",
       "  </tbody>\n",
       "</table>\n",
       "</div>"
      ],
      "text/plain": [
       "     sepal_length  sepal_width  petal_length  petal_width            class\n",
       "28            5.2          3.4           1.4          0.2      Iris-setosa\n",
       "38            4.4          3.0           1.3          0.2      Iris-setosa\n",
       "19            5.1          3.8           1.5          0.3      Iris-setosa\n",
       "88            5.6          3.0           4.1          1.3  Iris-versicolor\n",
       "137           6.4          3.1           5.5          1.8   Iris-virginica"
      ]
     },
     "execution_count": 47,
     "metadata": {},
     "output_type": "execute_result"
    }
   ],
   "source": [
    "iris_df.sample(n=5)"
   ]
  },
  {
   "cell_type": "markdown",
   "metadata": {},
   "source": [
    "Here are two observations:\n",
    "\n",
    "1. The columns of a `DataFrame` need not be the same data-type (`petal_width` is a `float`, while `class` is a `string`); we can think of a `DataFrame` as being a dictionary that maps column labels to `pandas` `Series` objects, which are one-dimensional arrays of data. We'll explore the relationship between `DataFrames` and `Series` a little more deeply in a few steps!\n",
    "\n",
    "2. All `pandas` Data Structures are \"labeled\", which we can see by values of the `index` (i.e. what looks to be the left-most column). This would come in handy when merging `Series` of end-of-day prices for various securities, for example, since `pandas` would line up the dates for us (see the **Appendix** for an example of this!)"
   ]
  },
  {
   "cell_type": "markdown",
   "metadata": {},
   "source": [
    "## Exploratory Data Analysis"
   ]
  },
  {
   "cell_type": "markdown",
   "metadata": {},
   "source": [
    "The purpose of this lab is to use the features `sepal_length`, `sepal_width`, `petal_length` and `petal_width` to predict the correct class of Iris (e.g. `Iris-versicolor`) for each of the examples that we've been provided. Before we dive into visualizations and machine learning, however, let's spend a few minutes getting more familiar with the data."
   ]
  },
  {
   "cell_type": "code",
   "execution_count": 48,
   "metadata": {},
   "outputs": [
    {
     "data": {
      "text/html": [
       "<div>\n",
       "<style scoped>\n",
       "    .dataframe tbody tr th:only-of-type {\n",
       "        vertical-align: middle;\n",
       "    }\n",
       "\n",
       "    .dataframe tbody tr th {\n",
       "        vertical-align: top;\n",
       "    }\n",
       "\n",
       "    .dataframe thead th {\n",
       "        text-align: right;\n",
       "    }\n",
       "</style>\n",
       "<table border=\"1\" class=\"dataframe\">\n",
       "  <thead>\n",
       "    <tr style=\"text-align: right;\">\n",
       "      <th></th>\n",
       "      <th>sepal_length</th>\n",
       "      <th>sepal_width</th>\n",
       "      <th>petal_length</th>\n",
       "      <th>petal_width</th>\n",
       "      <th>class</th>\n",
       "    </tr>\n",
       "  </thead>\n",
       "  <tbody>\n",
       "    <tr>\n",
       "      <th>count</th>\n",
       "      <td>150.000000</td>\n",
       "      <td>150.000000</td>\n",
       "      <td>150.000000</td>\n",
       "      <td>150.000000</td>\n",
       "      <td>150</td>\n",
       "    </tr>\n",
       "    <tr>\n",
       "      <th>unique</th>\n",
       "      <td>NaN</td>\n",
       "      <td>NaN</td>\n",
       "      <td>NaN</td>\n",
       "      <td>NaN</td>\n",
       "      <td>3</td>\n",
       "    </tr>\n",
       "    <tr>\n",
       "      <th>top</th>\n",
       "      <td>NaN</td>\n",
       "      <td>NaN</td>\n",
       "      <td>NaN</td>\n",
       "      <td>NaN</td>\n",
       "      <td>Iris-setosa</td>\n",
       "    </tr>\n",
       "    <tr>\n",
       "      <th>freq</th>\n",
       "      <td>NaN</td>\n",
       "      <td>NaN</td>\n",
       "      <td>NaN</td>\n",
       "      <td>NaN</td>\n",
       "      <td>50</td>\n",
       "    </tr>\n",
       "    <tr>\n",
       "      <th>mean</th>\n",
       "      <td>5.843333</td>\n",
       "      <td>3.054000</td>\n",
       "      <td>3.758667</td>\n",
       "      <td>1.198667</td>\n",
       "      <td>NaN</td>\n",
       "    </tr>\n",
       "    <tr>\n",
       "      <th>std</th>\n",
       "      <td>0.828066</td>\n",
       "      <td>0.433594</td>\n",
       "      <td>1.764420</td>\n",
       "      <td>0.763161</td>\n",
       "      <td>NaN</td>\n",
       "    </tr>\n",
       "    <tr>\n",
       "      <th>min</th>\n",
       "      <td>4.300000</td>\n",
       "      <td>2.000000</td>\n",
       "      <td>1.000000</td>\n",
       "      <td>0.100000</td>\n",
       "      <td>NaN</td>\n",
       "    </tr>\n",
       "    <tr>\n",
       "      <th>25%</th>\n",
       "      <td>5.100000</td>\n",
       "      <td>2.800000</td>\n",
       "      <td>1.600000</td>\n",
       "      <td>0.300000</td>\n",
       "      <td>NaN</td>\n",
       "    </tr>\n",
       "    <tr>\n",
       "      <th>50%</th>\n",
       "      <td>5.800000</td>\n",
       "      <td>3.000000</td>\n",
       "      <td>4.350000</td>\n",
       "      <td>1.300000</td>\n",
       "      <td>NaN</td>\n",
       "    </tr>\n",
       "    <tr>\n",
       "      <th>75%</th>\n",
       "      <td>6.400000</td>\n",
       "      <td>3.300000</td>\n",
       "      <td>5.100000</td>\n",
       "      <td>1.800000</td>\n",
       "      <td>NaN</td>\n",
       "    </tr>\n",
       "    <tr>\n",
       "      <th>max</th>\n",
       "      <td>7.900000</td>\n",
       "      <td>4.400000</td>\n",
       "      <td>6.900000</td>\n",
       "      <td>2.500000</td>\n",
       "      <td>NaN</td>\n",
       "    </tr>\n",
       "  </tbody>\n",
       "</table>\n",
       "</div>"
      ],
      "text/plain": [
       "        sepal_length  sepal_width  petal_length  petal_width        class\n",
       "count     150.000000   150.000000    150.000000   150.000000          150\n",
       "unique           NaN          NaN           NaN          NaN            3\n",
       "top              NaN          NaN           NaN          NaN  Iris-setosa\n",
       "freq             NaN          NaN           NaN          NaN           50\n",
       "mean        5.843333     3.054000      3.758667     1.198667          NaN\n",
       "std         0.828066     0.433594      1.764420     0.763161          NaN\n",
       "min         4.300000     2.000000      1.000000     0.100000          NaN\n",
       "25%         5.100000     2.800000      1.600000     0.300000          NaN\n",
       "50%         5.800000     3.000000      4.350000     1.300000          NaN\n",
       "75%         6.400000     3.300000      5.100000     1.800000          NaN\n",
       "max         7.900000     4.400000      6.900000     2.500000          NaN"
      ]
     },
     "execution_count": 48,
     "metadata": {},
     "output_type": "execute_result"
    }
   ],
   "source": [
    "iris_df.describe(include='all')"
   ]
  },
  {
   "cell_type": "markdown",
   "metadata": {},
   "source": [
    "We can see the mean for each feature across all of the samples, but are these consistent across Iris classes?"
   ]
  },
  {
   "cell_type": "code",
   "execution_count": 49,
   "metadata": {},
   "outputs": [
    {
     "data": {
      "text/html": [
       "<div>\n",
       "<style scoped>\n",
       "    .dataframe tbody tr th:only-of-type {\n",
       "        vertical-align: middle;\n",
       "    }\n",
       "\n",
       "    .dataframe tbody tr th {\n",
       "        vertical-align: top;\n",
       "    }\n",
       "\n",
       "    .dataframe thead th {\n",
       "        text-align: right;\n",
       "    }\n",
       "</style>\n",
       "<table border=\"1\" class=\"dataframe\">\n",
       "  <thead>\n",
       "    <tr style=\"text-align: right;\">\n",
       "      <th></th>\n",
       "      <th>sepal_length</th>\n",
       "      <th>sepal_width</th>\n",
       "      <th>petal_length</th>\n",
       "      <th>petal_width</th>\n",
       "    </tr>\n",
       "    <tr>\n",
       "      <th>class</th>\n",
       "      <th></th>\n",
       "      <th></th>\n",
       "      <th></th>\n",
       "      <th></th>\n",
       "    </tr>\n",
       "  </thead>\n",
       "  <tbody>\n",
       "    <tr>\n",
       "      <th>Iris-setosa</th>\n",
       "      <td>5.006</td>\n",
       "      <td>3.418</td>\n",
       "      <td>1.464</td>\n",
       "      <td>0.244</td>\n",
       "    </tr>\n",
       "    <tr>\n",
       "      <th>Iris-versicolor</th>\n",
       "      <td>5.936</td>\n",
       "      <td>2.770</td>\n",
       "      <td>4.260</td>\n",
       "      <td>1.326</td>\n",
       "    </tr>\n",
       "    <tr>\n",
       "      <th>Iris-virginica</th>\n",
       "      <td>6.588</td>\n",
       "      <td>2.974</td>\n",
       "      <td>5.552</td>\n",
       "      <td>2.026</td>\n",
       "    </tr>\n",
       "  </tbody>\n",
       "</table>\n",
       "</div>"
      ],
      "text/plain": [
       "                 sepal_length  sepal_width  petal_length  petal_width\n",
       "class                                                                \n",
       "Iris-setosa             5.006        3.418         1.464        0.244\n",
       "Iris-versicolor         5.936        2.770         4.260        1.326\n",
       "Iris-virginica          6.588        2.974         5.552        2.026"
      ]
     },
     "execution_count": 49,
     "metadata": {},
     "output_type": "execute_result"
    }
   ],
   "source": [
    "iris_df.groupby('class').mean()"
   ]
  },
  {
   "cell_type": "markdown",
   "metadata": {},
   "source": [
    "While 4 features is pretty manageable, suppose we were provided with hundreds of columns but only a few were of interest. We can sub-select columns as follows:"
   ]
  },
  {
   "cell_type": "code",
   "execution_count": 50,
   "metadata": {},
   "outputs": [
    {
     "data": {
      "text/html": [
       "<div>\n",
       "<style scoped>\n",
       "    .dataframe tbody tr th:only-of-type {\n",
       "        vertical-align: middle;\n",
       "    }\n",
       "\n",
       "    .dataframe tbody tr th {\n",
       "        vertical-align: top;\n",
       "    }\n",
       "\n",
       "    .dataframe thead th {\n",
       "        text-align: right;\n",
       "    }\n",
       "</style>\n",
       "<table border=\"1\" class=\"dataframe\">\n",
       "  <thead>\n",
       "    <tr style=\"text-align: right;\">\n",
       "      <th></th>\n",
       "      <th>sepal_length</th>\n",
       "      <th>sepal_width</th>\n",
       "    </tr>\n",
       "  </thead>\n",
       "  <tbody>\n",
       "    <tr>\n",
       "      <th>0</th>\n",
       "      <td>5.1</td>\n",
       "      <td>3.5</td>\n",
       "    </tr>\n",
       "    <tr>\n",
       "      <th>1</th>\n",
       "      <td>4.9</td>\n",
       "      <td>3.0</td>\n",
       "    </tr>\n",
       "    <tr>\n",
       "      <th>2</th>\n",
       "      <td>4.7</td>\n",
       "      <td>3.2</td>\n",
       "    </tr>\n",
       "    <tr>\n",
       "      <th>3</th>\n",
       "      <td>4.6</td>\n",
       "      <td>3.1</td>\n",
       "    </tr>\n",
       "    <tr>\n",
       "      <th>4</th>\n",
       "      <td>5.0</td>\n",
       "      <td>3.6</td>\n",
       "    </tr>\n",
       "  </tbody>\n",
       "</table>\n",
       "</div>"
      ],
      "text/plain": [
       "   sepal_length  sepal_width\n",
       "0           5.1          3.5\n",
       "1           4.9          3.0\n",
       "2           4.7          3.2\n",
       "3           4.6          3.1\n",
       "4           5.0          3.6"
      ]
     },
     "execution_count": 50,
     "metadata": {},
     "output_type": "execute_result"
    }
   ],
   "source": [
    "iris_df[['sepal_length', 'sepal_width']].head()"
   ]
  },
  {
   "cell_type": "markdown",
   "metadata": {},
   "source": [
    "And notice that if we select only one column, we get a `pandas` `Series` object back:"
   ]
  },
  {
   "cell_type": "code",
   "execution_count": 51,
   "metadata": {},
   "outputs": [
    {
     "name": "stdout",
     "output_type": "stream",
     "text": [
      "<class 'pandas.core.series.Series'>\n"
     ]
    },
    {
     "data": {
      "text/plain": [
       "0    5.1\n",
       "1    4.9\n",
       "2    4.7\n",
       "3    4.6\n",
       "4    5.0\n",
       "Name: sepal_length, dtype: float64"
      ]
     },
     "execution_count": 51,
     "metadata": {},
     "output_type": "execute_result"
    }
   ],
   "source": [
    "sepal_length = iris_df['sepal_length']\n",
    "\n",
    "print(type(sepal_length))\n",
    "sepal_length.head()"
   ]
  },
  {
   "cell_type": "markdown",
   "metadata": {},
   "source": [
    "And this `Series` can easily converted back to a 1-column `DataFrame`:"
   ]
  },
  {
   "cell_type": "code",
   "execution_count": 52,
   "metadata": {},
   "outputs": [
    {
     "data": {
      "text/html": [
       "<div>\n",
       "<style scoped>\n",
       "    .dataframe tbody tr th:only-of-type {\n",
       "        vertical-align: middle;\n",
       "    }\n",
       "\n",
       "    .dataframe tbody tr th {\n",
       "        vertical-align: top;\n",
       "    }\n",
       "\n",
       "    .dataframe thead th {\n",
       "        text-align: right;\n",
       "    }\n",
       "</style>\n",
       "<table border=\"1\" class=\"dataframe\">\n",
       "  <thead>\n",
       "    <tr style=\"text-align: right;\">\n",
       "      <th></th>\n",
       "      <th>sepal_length</th>\n",
       "    </tr>\n",
       "  </thead>\n",
       "  <tbody>\n",
       "    <tr>\n",
       "      <th>0</th>\n",
       "      <td>5.1</td>\n",
       "    </tr>\n",
       "    <tr>\n",
       "      <th>1</th>\n",
       "      <td>4.9</td>\n",
       "    </tr>\n",
       "    <tr>\n",
       "      <th>2</th>\n",
       "      <td>4.7</td>\n",
       "    </tr>\n",
       "    <tr>\n",
       "      <th>3</th>\n",
       "      <td>4.6</td>\n",
       "    </tr>\n",
       "    <tr>\n",
       "      <th>4</th>\n",
       "      <td>5.0</td>\n",
       "    </tr>\n",
       "  </tbody>\n",
       "</table>\n",
       "</div>"
      ],
      "text/plain": [
       "   sepal_length\n",
       "0           5.1\n",
       "1           4.9\n",
       "2           4.7\n",
       "3           4.6\n",
       "4           5.0"
      ]
     },
     "execution_count": 52,
     "metadata": {},
     "output_type": "execute_result"
    }
   ],
   "source": [
    "sepal_length.to_frame().head()"
   ]
  },
  {
   "cell_type": "markdown",
   "metadata": {},
   "source": [
    "Now that we've been exposed to a few of these methods, let's combine them to check whether any Iris classes are more heavily represented than the others"
   ]
  },
  {
   "cell_type": "code",
   "execution_count": 53,
   "metadata": {},
   "outputs": [
    {
     "data": {
      "text/html": [
       "<div>\n",
       "<style scoped>\n",
       "    .dataframe tbody tr th:only-of-type {\n",
       "        vertical-align: middle;\n",
       "    }\n",
       "\n",
       "    .dataframe tbody tr th {\n",
       "        vertical-align: top;\n",
       "    }\n",
       "\n",
       "    .dataframe thead th {\n",
       "        text-align: right;\n",
       "    }\n",
       "</style>\n",
       "<table border=\"1\" class=\"dataframe\">\n",
       "  <thead>\n",
       "    <tr style=\"text-align: right;\">\n",
       "      <th></th>\n",
       "      <th>counts</th>\n",
       "    </tr>\n",
       "    <tr>\n",
       "      <th>class</th>\n",
       "      <th></th>\n",
       "    </tr>\n",
       "  </thead>\n",
       "  <tbody>\n",
       "    <tr>\n",
       "      <th>Iris-setosa</th>\n",
       "      <td>50</td>\n",
       "    </tr>\n",
       "    <tr>\n",
       "      <th>Iris-versicolor</th>\n",
       "      <td>50</td>\n",
       "    </tr>\n",
       "    <tr>\n",
       "      <th>Iris-virginica</th>\n",
       "      <td>50</td>\n",
       "    </tr>\n",
       "  </tbody>\n",
       "</table>\n",
       "</div>"
      ],
      "text/plain": [
       "                 counts\n",
       "class                  \n",
       "Iris-setosa          50\n",
       "Iris-versicolor      50\n",
       "Iris-virginica       50"
      ]
     },
     "execution_count": 53,
     "metadata": {},
     "output_type": "execute_result"
    }
   ],
   "source": [
    "# .size() returns a Series\n",
    "iris_df.groupby('class').size().to_frame('counts')"
   ]
  },
  {
   "cell_type": "markdown",
   "metadata": {},
   "source": [
    "Suppose we now want to examine a subset of _rows_ in our `DataFrame`, and we want to select them based on their column values (similar to SQL):"
   ]
  },
  {
   "cell_type": "code",
   "execution_count": 54,
   "metadata": {},
   "outputs": [
    {
     "data": {
      "text/html": [
       "<div>\n",
       "<style scoped>\n",
       "    .dataframe tbody tr th:only-of-type {\n",
       "        vertical-align: middle;\n",
       "    }\n",
       "\n",
       "    .dataframe tbody tr th {\n",
       "        vertical-align: top;\n",
       "    }\n",
       "\n",
       "    .dataframe thead th {\n",
       "        text-align: right;\n",
       "    }\n",
       "</style>\n",
       "<table border=\"1\" class=\"dataframe\">\n",
       "  <thead>\n",
       "    <tr style=\"text-align: right;\">\n",
       "      <th></th>\n",
       "      <th>sepal_length</th>\n",
       "      <th>sepal_width</th>\n",
       "      <th>petal_length</th>\n",
       "      <th>petal_width</th>\n",
       "      <th>class</th>\n",
       "    </tr>\n",
       "  </thead>\n",
       "  <tbody>\n",
       "    <tr>\n",
       "      <th>102</th>\n",
       "      <td>7.1</td>\n",
       "      <td>3.0</td>\n",
       "      <td>5.9</td>\n",
       "      <td>2.1</td>\n",
       "      <td>Iris-virginica</td>\n",
       "    </tr>\n",
       "    <tr>\n",
       "      <th>105</th>\n",
       "      <td>7.6</td>\n",
       "      <td>3.0</td>\n",
       "      <td>6.6</td>\n",
       "      <td>2.1</td>\n",
       "      <td>Iris-virginica</td>\n",
       "    </tr>\n",
       "    <tr>\n",
       "      <th>107</th>\n",
       "      <td>7.3</td>\n",
       "      <td>2.9</td>\n",
       "      <td>6.3</td>\n",
       "      <td>1.8</td>\n",
       "      <td>Iris-virginica</td>\n",
       "    </tr>\n",
       "    <tr>\n",
       "      <th>109</th>\n",
       "      <td>7.2</td>\n",
       "      <td>3.6</td>\n",
       "      <td>6.1</td>\n",
       "      <td>2.5</td>\n",
       "      <td>Iris-virginica</td>\n",
       "    </tr>\n",
       "    <tr>\n",
       "      <th>117</th>\n",
       "      <td>7.7</td>\n",
       "      <td>3.8</td>\n",
       "      <td>6.7</td>\n",
       "      <td>2.2</td>\n",
       "      <td>Iris-virginica</td>\n",
       "    </tr>\n",
       "    <tr>\n",
       "      <th>118</th>\n",
       "      <td>7.7</td>\n",
       "      <td>2.6</td>\n",
       "      <td>6.9</td>\n",
       "      <td>2.3</td>\n",
       "      <td>Iris-virginica</td>\n",
       "    </tr>\n",
       "    <tr>\n",
       "      <th>122</th>\n",
       "      <td>7.7</td>\n",
       "      <td>2.8</td>\n",
       "      <td>6.7</td>\n",
       "      <td>2.0</td>\n",
       "      <td>Iris-virginica</td>\n",
       "    </tr>\n",
       "    <tr>\n",
       "      <th>125</th>\n",
       "      <td>7.2</td>\n",
       "      <td>3.2</td>\n",
       "      <td>6.0</td>\n",
       "      <td>1.8</td>\n",
       "      <td>Iris-virginica</td>\n",
       "    </tr>\n",
       "    <tr>\n",
       "      <th>129</th>\n",
       "      <td>7.2</td>\n",
       "      <td>3.0</td>\n",
       "      <td>5.8</td>\n",
       "      <td>1.6</td>\n",
       "      <td>Iris-virginica</td>\n",
       "    </tr>\n",
       "    <tr>\n",
       "      <th>130</th>\n",
       "      <td>7.4</td>\n",
       "      <td>2.8</td>\n",
       "      <td>6.1</td>\n",
       "      <td>1.9</td>\n",
       "      <td>Iris-virginica</td>\n",
       "    </tr>\n",
       "    <tr>\n",
       "      <th>131</th>\n",
       "      <td>7.9</td>\n",
       "      <td>3.8</td>\n",
       "      <td>6.4</td>\n",
       "      <td>2.0</td>\n",
       "      <td>Iris-virginica</td>\n",
       "    </tr>\n",
       "    <tr>\n",
       "      <th>135</th>\n",
       "      <td>7.7</td>\n",
       "      <td>3.0</td>\n",
       "      <td>6.1</td>\n",
       "      <td>2.3</td>\n",
       "      <td>Iris-virginica</td>\n",
       "    </tr>\n",
       "  </tbody>\n",
       "</table>\n",
       "</div>"
      ],
      "text/plain": [
       "     sepal_length  sepal_width  petal_length  petal_width           class\n",
       "102           7.1          3.0           5.9          2.1  Iris-virginica\n",
       "105           7.6          3.0           6.6          2.1  Iris-virginica\n",
       "107           7.3          2.9           6.3          1.8  Iris-virginica\n",
       "109           7.2          3.6           6.1          2.5  Iris-virginica\n",
       "117           7.7          3.8           6.7          2.2  Iris-virginica\n",
       "118           7.7          2.6           6.9          2.3  Iris-virginica\n",
       "122           7.7          2.8           6.7          2.0  Iris-virginica\n",
       "125           7.2          3.2           6.0          1.8  Iris-virginica\n",
       "129           7.2          3.0           5.8          1.6  Iris-virginica\n",
       "130           7.4          2.8           6.1          1.9  Iris-virginica\n",
       "131           7.9          3.8           6.4          2.0  Iris-virginica\n",
       "135           7.7          3.0           6.1          2.3  Iris-virginica"
      ]
     },
     "execution_count": 54,
     "metadata": {},
     "output_type": "execute_result"
    }
   ],
   "source": [
    "iris_df.query('sepal_length > 7')"
   ]
  },
  {
   "cell_type": "markdown",
   "metadata": {},
   "source": [
    "While `pandas` has become the tool of choice for most data science tasks, `numpy` is a lower-level (but also very popular) Python library that comes in handy when doing work with vectors and matrices, or implementing machine learning algorithms from scratch. Luckily, it plays very well with `pandas` and pure Python. For our purposes, let's just explore a few common use-cases. \n",
    "\n",
    "Imagine we want to use a machine learning library that expects us to represent our observations as a 2-dimensional `numpy` array instead of a `DataFrame`. We can easily convert our `DataFrame` to this format as follows:"
   ]
  },
  {
   "cell_type": "code",
   "execution_count": 55,
   "metadata": {},
   "outputs": [
    {
     "data": {
      "text/plain": [
       "array([[5.1, 3.5, 1.4, 0.2],\n",
       "       [4.9, 3. , 1.4, 0.2],\n",
       "       [4.7, 3.2, 1.3, 0.2],\n",
       "       [4.6, 3.1, 1.5, 0.2],\n",
       "       [5. , 3.6, 1.4, 0.2]])"
      ]
     },
     "execution_count": 55,
     "metadata": {},
     "output_type": "execute_result"
    }
   ],
   "source": [
    "# first drop the class labels, since **all values in a numpy array must have the same data-type**\n",
    "iris_features_df = iris_df.drop(['class'], axis=1)\n",
    "\n",
    "# The call to .values does the magic of converting our DataFrame to a numpy array. This works for Series objects, too!\n",
    "iris_features_ndarray = iris_features_df.values\n",
    "iris_features_ndarray[:5]"
   ]
  },
  {
   "cell_type": "markdown",
   "metadata": {},
   "source": [
    "To go full circle, let's convert it back!"
   ]
  },
  {
   "cell_type": "code",
   "execution_count": 56,
   "metadata": {},
   "outputs": [
    {
     "data": {
      "text/html": [
       "<div>\n",
       "<style scoped>\n",
       "    .dataframe tbody tr th:only-of-type {\n",
       "        vertical-align: middle;\n",
       "    }\n",
       "\n",
       "    .dataframe tbody tr th {\n",
       "        vertical-align: top;\n",
       "    }\n",
       "\n",
       "    .dataframe thead th {\n",
       "        text-align: right;\n",
       "    }\n",
       "</style>\n",
       "<table border=\"1\" class=\"dataframe\">\n",
       "  <thead>\n",
       "    <tr style=\"text-align: right;\">\n",
       "      <th></th>\n",
       "      <th>sepal_length</th>\n",
       "      <th>sepal_width</th>\n",
       "      <th>petal_length</th>\n",
       "      <th>petal_width</th>\n",
       "    </tr>\n",
       "  </thead>\n",
       "  <tbody>\n",
       "    <tr>\n",
       "      <th>0</th>\n",
       "      <td>5.1</td>\n",
       "      <td>3.5</td>\n",
       "      <td>1.4</td>\n",
       "      <td>0.2</td>\n",
       "    </tr>\n",
       "    <tr>\n",
       "      <th>1</th>\n",
       "      <td>4.9</td>\n",
       "      <td>3.0</td>\n",
       "      <td>1.4</td>\n",
       "      <td>0.2</td>\n",
       "    </tr>\n",
       "    <tr>\n",
       "      <th>2</th>\n",
       "      <td>4.7</td>\n",
       "      <td>3.2</td>\n",
       "      <td>1.3</td>\n",
       "      <td>0.2</td>\n",
       "    </tr>\n",
       "    <tr>\n",
       "      <th>3</th>\n",
       "      <td>4.6</td>\n",
       "      <td>3.1</td>\n",
       "      <td>1.5</td>\n",
       "      <td>0.2</td>\n",
       "    </tr>\n",
       "    <tr>\n",
       "      <th>4</th>\n",
       "      <td>5.0</td>\n",
       "      <td>3.6</td>\n",
       "      <td>1.4</td>\n",
       "      <td>0.2</td>\n",
       "    </tr>\n",
       "  </tbody>\n",
       "</table>\n",
       "</div>"
      ],
      "text/plain": [
       "   sepal_length  sepal_width  petal_length  petal_width\n",
       "0           5.1          3.5           1.4          0.2\n",
       "1           4.9          3.0           1.4          0.2\n",
       "2           4.7          3.2           1.3          0.2\n",
       "3           4.6          3.1           1.5          0.2\n",
       "4           5.0          3.6           1.4          0.2"
      ]
     },
     "execution_count": 56,
     "metadata": {},
     "output_type": "execute_result"
    }
   ],
   "source": [
    "pd.DataFrame(iris_features_ndarray, columns=['sepal_length', 'sepal_width', 'petal_length', 'petal_width']).head()"
   ]
  },
  {
   "cell_type": "markdown",
   "metadata": {},
   "source": [
    "Here are some commonly-used `numpy` functions, which we'll use when tuning our model later in this lab"
   ]
  },
  {
   "cell_type": "code",
   "execution_count": 57,
   "metadata": {},
   "outputs": [
    {
     "name": "stdout",
     "output_type": "stream",
     "text": [
      "[0 1 2 3 4]\n",
      "[  0.1   1.   10.  100. ]\n"
     ]
    }
   ],
   "source": [
    "# Create an evenly spaced array\n",
    "print(np.arange(5))\n",
    "\n",
    "# Convert a plain Python list to an array\n",
    "print(np.array([10**i for i in range(-1, 3)]))"
   ]
  },
  {
   "cell_type": "markdown",
   "metadata": {},
   "source": [
    "Please check out the **Appendix** at the bottom of this notebook for more advanced material on `pandas` and `numpy`"
   ]
  },
  {
   "cell_type": "markdown",
   "metadata": {},
   "source": [
    "# Data visualization\n",
    "\n",
    "In this section we will use the module `matplotlib.pyplot`, a MATLAB-like plotting framework.\n",
    "\n",
    "[Overview of matplotlib, with links to documentation and tutorials](http://nbviewer.jupyter.org/github/matplotlib/AnatomyOfMatplotlib/blob/master/AnatomyOfMatplotlib-Part1-Figures_Subplots_and_layouts.ipynb)\n",
    "\n",
    "First of all, let's configure matplotlib so that it works fine in your environment.\n",
    "\n",
    "**Important:** Remember to set `in_bqnt` to True if you are in BQNT &lt;GO&gt;."
   ]
  },
  {
   "cell_type": "code",
   "execution_count": 58,
   "metadata": {},
   "outputs": [],
   "source": [
    "import matplotlib.pyplot as plt\n",
    "\n",
    "# configure the notebook to display the figures inline\n",
    "%matplotlib inline\n",
    "\n",
    "# is this running in BQNT?\n",
    "in_bqnt = False\n",
    "\n",
    "# set up light coloring for BQNT's dark background\n",
    "if in_bqnt:\n",
    "    rc_params = {\n",
    "        'xtick': {'color': 'white'},\n",
    "        'ytick': {'color': 'white'},\n",
    "        'axes': {'labelcolor': 'white'}\n",
    "    }\n",
    "    for group, args in rc_params.items():\n",
    "        plt.rc(group, **args)"
   ]
  },
  {
   "cell_type": "markdown",
   "metadata": {},
   "source": [
    "## Feature Histogram\n",
    "\n",
    "This section covers:\n",
    "\n",
    "* Creating a histogram plot\n",
    "* Adding axis labels\n",
    "* Using a new figure for each plot"
   ]
  },
  {
   "cell_type": "markdown",
   "metadata": {},
   "source": [
    "### Histogram\n",
    "\n",
    "Just pass one-dimensional data (and optionally the number of bins) to the `plt.hist` function to draw a histogram.\n",
    "\n",
    "To add a label to the $x$ and $y$ axes, you can use `plt.xlabel` and `plt.ylabel`."
   ]
  },
  {
   "cell_type": "code",
   "execution_count": 59,
   "metadata": {},
   "outputs": [
    {
     "data": {
      "image/png": "[encoded data removed]",
      "text/plain": [
       "<Figure size 432x288 with 1 Axes>"
      ]
     },
     "metadata": {
      "needs_background": "light"
     },
     "output_type": "display_data"
    },
    {
     "data": {
      "image/png": "[encoded data removed]",
      "text/plain": [
       "<Figure size 432x288 with 1 Axes>"
      ]
     },
     "metadata": {
      "needs_background": "light"
     },
     "output_type": "display_data"
    },
    {
     "data": {
      "image/png": "[encoded data removed]",
      "text/plain": [
       "<Figure size 432x288 with 1 Axes>"
      ]
     },
     "metadata": {
      "needs_background": "light"
     },
     "output_type": "display_data"
    },
    {
     "data": {
      "image/png": "[encoded data removed]",
      "text/plain": [
       "<Figure size 432x288 with 1 Axes>"
      ]
     },
     "metadata": {
      "needs_background": "light"
     },
     "output_type": "display_data"
    }
   ],
   "source": [
    "def draw_histogram(feature_values, feature_name):\n",
    "    plt.hist(feature_values, bins=10) # draw a histogram of feature_values with 10 bins\n",
    "    plt.xlabel(feature_name)  # set the x label to feature_name\n",
    "    plt.ylabel('count')  # set the y label to 'count'\n",
    "\n",
    "feature_names = ['sepal_length', 'sepal_width', 'petal_length', 'petal_width']  # or iris_df.columns.values[:-1]\n",
    "for feature_name in feature_names:\n",
    "    plt.figure()  # this line makes each histogram use a different figure, try removing it to see what happens!\n",
    "    #feature_values = ...  # get the data for a given feature_name\n",
    "    feature_values = iris_df[feature_name]\n",
    "    draw_histogram(feature_values, feature_name)"
   ]
  },
  {
   "cell_type": "markdown",
   "metadata": {},
   "source": [
    "## Separating dataset by a value\n",
    "\n",
    "In this classification problem, we want to find the species of a given flower given only the measurements.\n",
    "\n",
    "When looking at the petal length and petal width histogram, we see that there seems to be two peaks (around 1.5 and around 5).\n",
    "\n",
    "Are these peaks a good way to distinguish species? Why do we have two peaks even though we have three possible species? A good way to answer these questions is to separate the dataset by classes, to see how each class is influencing the shape of the histogram.\n",
    "\n",
    "This section covers:\n",
    "\n",
    "* Separating the dataset by the value of a feature ('class' in this case)\n",
    "* Adding multiple data series to the same plot\n",
    "* Adding a legend to a plot"
   ]
  },
  {
   "cell_type": "code",
   "execution_count": 60,
   "metadata": {},
   "outputs": [
    {
     "name": "stdout",
     "output_type": "stream",
     "text": [
      "Iris-setosa petal_length average: 1.464\n"
     ]
    }
   ],
   "source": [
    "classes = ['Iris-setosa', 'Iris-versicolor', 'Iris-virginica']  # or iris_df['class'].unique()\n",
    "feature_name = 'petal_length'\n",
    "\n",
    "true_if_setosa = iris_df['class'] == 'Iris-setosa'\n",
    "only_setosa_df = iris_df.loc[true_if_setosa]\n",
    "feature_values = only_setosa_df[feature_name]\n",
    "print('Iris-setosa {} average: {}'.format(feature_name, feature_values.mean()))"
   ]
  },
  {
   "cell_type": "markdown",
   "metadata": {},
   "source": [
    "The `Iris-setosa` average is indeed around 1.5!\n",
    "\n",
    "But what are the minimum and maximum values? And how about the other classes?\n",
    "\n",
    "### Exercise 1. Draw a separated feature histogram for each feature\n",
    "\n",
    "1. select **only** the feature values corresponding to `cls` in `feature_values`\n",
    "2. look at the histogram with all three classes\n",
    "3. Plot the separated histogram of each feature\n",
    "4. Make sure that the $x$ label and $y$ label are set\n",
    "5. Also make sure the legend is visible"
   ]
  },
  {
   "cell_type": "code",
   "execution_count": 61,
   "metadata": {},
   "outputs": [
    {
     "data": {
      "image/png": "[encoded data removed]",
      "text/plain": [
       "<Figure size 432x288 with 1 Axes>"
      ]
     },
     "metadata": {
      "needs_background": "light"
     },
     "output_type": "display_data"
    },
    {
     "data": {
      "image/png": "[encoded data removed]",
      "text/plain": [
       "<Figure size 432x288 with 1 Axes>"
      ]
     },
     "metadata": {
      "needs_background": "light"
     },
     "output_type": "display_data"
    },
    {
     "data": {
      "image/png": "[encoded data removed]",
      "text/plain": [
       "<Figure size 432x288 with 1 Axes>"
      ]
     },
     "metadata": {
      "needs_background": "light"
     },
     "output_type": "display_data"
    },
    {
     "data": {
      "image/png": "[encoded data removed]",
      "text/plain": [
       "<Figure size 432x288 with 1 Axes>"
      ]
     },
     "metadata": {
      "needs_background": "light"
     },
     "output_type": "display_data"
    }
   ],
   "source": [
    "def only_cls_feature_values(input_df, cls, feature_name):\n",
    "    return input_df.loc[input_df['class'] == cls][feature_name]\n",
    "\n",
    "for feature_name in feature_names:\n",
    "    plt.figure()  # add plots to a new figure\n",
    "    for cls in classes:\n",
    "        cls_fv = only_cls_feature_values(iris_df, cls, feature_name)\n",
    "        draw_histogram(cls_fv, feature_name)\n",
    "    plt.legend(classes)\n",
    "    #plt.title(feature_name)"
   ]
  },
  {
   "cell_type": "markdown",
   "metadata": {},
   "source": [
    "## Scatterplots of feature pairs\n",
    "\n",
    "When analyzing multi dimensional data, it is sometimes interesting to see how some dimensions interact with each other. In order to do this, one possible tool is a scatter plot.\n",
    "\n",
    "This section covers:\n",
    "\n",
    "* Creating a scatter plot of a pair of features\n",
    "* Interpreting the plot"
   ]
  },
  {
   "cell_type": "markdown",
   "metadata": {},
   "source": [
    "### Scatterplots\n",
    "\n",
    "The way to plot scatter plots with `matplotlib.pyplot` is the same as a line plot, except that we need to provide one more argument at the end, for the shape.\n",
    "\n",
    "Here is a simple example, of the square function, using `'.'` instead of `'-'` (the default).\n",
    "\n",
    "Other possible values include `'x'`, `'+'`, etc. (see https://matplotlib.org/api/pyplot_api.html#matplotlib.pyplot.plot for a full list)."
   ]
  },
  {
   "cell_type": "code",
   "execution_count": 62,
   "metadata": {},
   "outputs": [
    {
     "data": {
      "image/png": "[encoded data removed]",
      "text/plain": [
       "<Figure size 432x288 with 1 Axes>"
      ]
     },
     "metadata": {
      "needs_background": "light"
     },
     "output_type": "display_data"
    }
   ],
   "source": [
    "def square(x):\n",
    "    return x ** 2\n",
    "\n",
    "x_values = np.linspace(-5, 5, num=11)\n",
    "plt.plot(x_values, square(x_values), '.');"
   ]
  },
  {
   "cell_type": "markdown",
   "metadata": {},
   "source": [
    "### Exercise 2. Plot a pair of features\n",
    "\n",
    "1. Get the `x_values` for a given class and the `x_feature` feature name\n",
    "2. Same thing for `y_values`\n",
    "\n",
    "   (hint: use `only_cls_feature_values`)\n",
    "3. Plot the `x_values` against `y_values` with a the `'.'` shape"
   ]
  },
  {
   "cell_type": "code",
   "execution_count": 63,
   "metadata": {
    "scrolled": true
   },
   "outputs": [
    {
     "data": {
      "image/png": "[encoded data removed]",
      "text/plain": [
       "<Figure size 432x288 with 1 Axes>"
      ]
     },
     "metadata": {
      "needs_background": "light"
     },
     "output_type": "display_data"
    }
   ],
   "source": [
    "def scatter_plot_feature_pair(input_df, x_feature, y_feature, classes, plt=plt):\n",
    "    handles = []  # used for plt.figlegend\n",
    "\n",
    "    for cls in classes:\n",
    "        x_values = only_cls_feature_values(input_df, cls, x_feature)\n",
    "        y_values = only_cls_feature_values(input_df, cls, y_feature)\n",
    "        axis = plt.plot(x_values, y_values, '.')\n",
    "        handles.append(axis[0])\n",
    "\n",
    "    return handles\n",
    "\n",
    "scatter_plot_feature_pair(iris_df, 'petal_length', 'sepal_length', classes)\n",
    "plt.xlabel('petal_length')\n",
    "plt.ylabel('sepal_length')\n",
    "plt.legend(classes);"
   ]
  },
  {
   "cell_type": "markdown",
   "metadata": {},
   "source": [
    "## Scatterplot matrix\n",
    "\n",
    "In addition to the distribution of individual features, it is also useful to visualize the relationships between features. To do so, we can create scatterplots for each pair of features, arranged in a 'matrix' layout. Furthermore, by coloring the scatterplot according to 'class', we can gain further insight into the nature of the correlations.\n",
    "\n",
    "This section covers:\n",
    "\n",
    "* Working with subplots"
   ]
  },
  {
   "cell_type": "markdown",
   "metadata": {},
   "source": [
    "### Cheating with pandas\n",
    "\n",
    "If you are willing to accept their default, pandas already have everything done for us (no need to use our previous functions)."
   ]
  },
  {
   "cell_type": "code",
   "execution_count": 64,
   "metadata": {},
   "outputs": [
    {
     "data": {
      "image/png": "[encoded data removed]",
      "text/plain": [
       "<Figure size 432x288 with 16 Axes>"
      ]
     },
     "metadata": {
      "needs_background": "light"
     },
     "output_type": "display_data"
    }
   ],
   "source": [
    "try:\n",
    "    from pandas.plotting import scatter_matrix  # BQNT has an old version of pandas, without plotting\n",
    "    scatter_matrix(iris_df, diagonal='kde')\n",
    "    image = None\n",
    "except:\n",
    "    from IPython.display import Image\n",
    "    image = Image(filename='pandas_scatter_matrix.png')\n",
    "\n",
    "image"
   ]
  },
  {
   "cell_type": "markdown",
   "metadata": {},
   "source": [
    "But this is not separated by class! No pretty colors!\n",
    "\n",
    "The code below uses our functions to do a similar scatter matrix but separated by classes."
   ]
  },
  {
   "cell_type": "code",
   "execution_count": 65,
   "metadata": {},
   "outputs": [
    {
     "data": {
      "image/png": "[encoded data removed]",
      "text/plain": [
       "<Figure size 432x288 with 16 Axes>"
      ]
     },
     "metadata": {
      "needs_background": "light"
     },
     "output_type": "display_data"
    }
   ],
   "source": [
    "from itertools import combinations\n",
    "\n",
    "def scatterplot_matrix(input_df, classes, kde_in_diagonal):\n",
    "    # create the figure as a matrix of subplots, sharing x values in columns,\n",
    "    # and y values in rows iff display_kde is False\n",
    "    sharey = {'sharey': 'row'} if not kde_in_diagonal else {}\n",
    "    _, axes_array = plt.subplots(len(feature_names), len(feature_names), sharex='col', **sharey)\n",
    "\n",
    "    # loop over the diagonal\n",
    "    # note: the enumerate(iterable) function returns tuples of (index, element) for all the elements in the iterable \n",
    "    for i, feature in enumerate(feature_names):\n",
    "        # for the subplot at i,i: \n",
    "        # instead of plotting the feature against itself\n",
    "        if kde_in_diagonal:\n",
    "            # try implementing that function in the appendix\n",
    "            plot_kde(input_df, feature, classes, axes_array[i,i])\n",
    "        else:\n",
    "            # display name of the feature\n",
    "            plt.text(\n",
    "                0.5, 0.5, feature,\n",
    "                horizontalalignment='center',\n",
    "                verticalalignment='center',\n",
    "                transform=axes_array[i,i].transAxes\n",
    "            )\n",
    "\n",
    "    # loop over the top right half of the matrix\n",
    "    # note: combinations(iterable, 2) returns all pairs of features without considering order\n",
    "    #       so in our case, we have [((0, 'sepal_length'), (1, 'sepal_width')), ...]\n",
    "    for (i, feature1), (j, feature2) in combinations(enumerate(feature_names), 2):\n",
    "        # plot in the top right half (i, j)\n",
    "        scatter_plot_feature_pair(\n",
    "            input_df,\n",
    "            feature2,\n",
    "            feature1,\n",
    "            classes,\n",
    "            plt=axes_array[i,j]\n",
    "        )\n",
    "\n",
    "        # plot the mirror image in the bottom left half (j, i)\n",
    "        handles = scatter_plot_feature_pair(\n",
    "            input_df,\n",
    "            feature1,\n",
    "            feature2,\n",
    "            classes,\n",
    "            plt=axes_array[j,i]\n",
    "        )\n",
    "\n",
    "    plt.figlegend(handles, classes, 'upper center')\n",
    "\n",
    "scatterplot_matrix(iris_df, classes, kde_in_diagonal=False)\n",
    "\n",
    "# you should also try this (see appendix 3 first):\n",
    "# scatterplot_matrix(iris_df, classes, kde_in_diagonal=True)"
   ]
  },
  {
   "cell_type": "markdown",
   "metadata": {},
   "source": [
    "We can easily see that setosa iris measurements form a separate cluster for any two sets of features! This is not obvious from the kernel densities for sepal measurements, though it can be seen in the bimodal petal measurement kernel densities. The strongest correlation is between petal width and petal length, as shown by the strong linearity in the scatter plot, and a similar linear relationship is shared between all classes of iris. This is not the case for e.g. petal length and sepal length, which also exhibit fairly strong correlation within a class but have different linear relationships between classes. These conclusions can be used to interpret the results of clustering and regression models."
   ]
  },
  {
   "cell_type": "markdown",
   "metadata": {},
   "source": [
    "<h1> Fitting A Model </h1>"
   ]
  },
  {
   "cell_type": "markdown",
   "metadata": {},
   "source": [
    "Enough warming up, let's get to it!\n",
    "\n",
    "To prep our data for building a model, we need to split it into three main categories:\n",
    "\n",
    "1. Training set\n",
    "2. Validation set\n",
    "3. Test set\n",
    "\n",
    "This is a critical best-practice in data science to guard against overfitting!\n",
    "<img src=\"train_test_validation_split.png\" alt=\"Train/Validation/Test Split\" style=\"width: 520px;\"/>\n",
    "\n",
    "Notice that below we use the `sklearn` function `train_test_split` to partition the data randomly into the three categories described above. The default train/test proportions are 75%/25%, but they can be manually configured as desired. Here we'll use 80%/20%.\n",
    "\n",
    "Additionally, if we had discovered that our data set contained relatively few of one of the classes, we could specify `stratify=y` to make sure that each split has equal representation from all classes.  (This could be important so we don't end up with a split with 0 or very few examples from a particular class, just by random chance.)"
   ]
  },
  {
   "cell_type": "code",
   "execution_count": 66,
   "metadata": {},
   "outputs": [],
   "source": [
    "from sklearn.model_selection import train_test_split\n",
    "\n",
    "#Renaming the DataFrame to stick with popular convention\n",
    "X = iris_df.copy()\n",
    "\n",
    "# Similar to Python dictionaries, pop() removes the column from the DataFrame and returns the corresponding Series\n",
    "y = X.pop('class')\n",
    "\n",
    "X_train_all, X_test, y_train_all, y_test = train_test_split(X, y, test_size=0.2)\n",
    "X_train, X_val, y_train, y_val = train_test_split(X_train_all, y_train_all, test_size=0.2)"
   ]
  },
  {
   "cell_type": "markdown",
   "metadata": {},
   "source": [
    "How would you get the counts of training examples across the Iris classes?"
   ]
  },
  {
   "cell_type": "code",
   "execution_count": 67,
   "metadata": {},
   "outputs": [
    {
     "data": {
      "text/html": [
       "<div>\n",
       "<style scoped>\n",
       "    .dataframe tbody tr th:only-of-type {\n",
       "        vertical-align: middle;\n",
       "    }\n",
       "\n",
       "    .dataframe tbody tr th {\n",
       "        vertical-align: top;\n",
       "    }\n",
       "\n",
       "    .dataframe thead th {\n",
       "        text-align: right;\n",
       "    }\n",
       "</style>\n",
       "<table border=\"1\" class=\"dataframe\">\n",
       "  <thead>\n",
       "    <tr style=\"text-align: right;\">\n",
       "      <th></th>\n",
       "      <th>counts</th>\n",
       "    </tr>\n",
       "    <tr>\n",
       "      <th>class</th>\n",
       "      <th></th>\n",
       "    </tr>\n",
       "  </thead>\n",
       "  <tbody>\n",
       "    <tr>\n",
       "      <th>Iris-setosa</th>\n",
       "      <td>33</td>\n",
       "    </tr>\n",
       "    <tr>\n",
       "      <th>Iris-versicolor</th>\n",
       "      <td>33</td>\n",
       "    </tr>\n",
       "    <tr>\n",
       "      <th>Iris-virginica</th>\n",
       "      <td>30</td>\n",
       "    </tr>\n",
       "  </tbody>\n",
       "</table>\n",
       "</div>"
      ],
      "text/plain": [
       "                 counts\n",
       "class                  \n",
       "Iris-setosa          33\n",
       "Iris-versicolor      33\n",
       "Iris-virginica       30"
      ]
     },
     "execution_count": 67,
     "metadata": {},
     "output_type": "execute_result"
    }
   ],
   "source": [
    "# SOLUTION\n",
    "y_train.to_frame().groupby('class').size().to_frame('counts')"
   ]
  },
  {
   "cell_type": "markdown",
   "metadata": {},
   "source": [
    "<h2> Logistic Regression </h2>\n",
    "\n",
    "Once we've loaded, cleaned, split, and visualized the data, we're ready to try fitting some machine learning models! Logistic regression, despite its name, can be viewed as a machine learning model for doing classification. Logistic regression gives us prediction functions that produce \"soft classifications\", namely probability distributions over class labels. To get a hard classification, we will just choose the class with the highest probability.\n",
    "\n",
    "Scikit-Learn contains a LogisticRegression class, which can train a model on your data and make predictions. There's a link to the full spec below, but the most important methods are:\n",
    "\n",
    "1. fit(X, y): Fits the model to the provided training data.\n",
    "2. predict(X): Predicts the classification for test data. \n",
    "\n",
    "Full Spec: http://scikit-learn.org/stable/modules/generated/sklearn.linear_model.LogisticRegression.html"
   ]
  },
  {
   "cell_type": "code",
   "execution_count": 75,
   "metadata": {
    "scrolled": true
   },
   "outputs": [
    {
     "data": {
      "text/plain": [
       "array(['Iris-setosa', 'Iris-virginica', 'Iris-versicolor', 'Iris-setosa',\n",
       "       'Iris-versicolor', 'Iris-versicolor', 'Iris-virginica',\n",
       "       'Iris-versicolor', 'Iris-versicolor', 'Iris-setosa',\n",
       "       'Iris-virginica', 'Iris-setosa', 'Iris-virginica',\n",
       "       'Iris-virginica', 'Iris-virginica', 'Iris-virginica',\n",
       "       'Iris-virginica', 'Iris-setosa', 'Iris-setosa', 'Iris-virginica',\n",
       "       'Iris-setosa', 'Iris-virginica', 'Iris-versicolor',\n",
       "       'Iris-virginica'], dtype=object)"
      ]
     },
     "execution_count": 75,
     "metadata": {},
     "output_type": "execute_result"
    }
   ],
   "source": [
    "#Train a logistic regression model and use it to predict the species for the validation data\n",
    "from sklearn.linear_model import LogisticRegression\n",
    "log_reg = LogisticRegression()\n",
    "log_reg.fit(X_train, y_train)\n",
    "y_pred = log_reg.predict(X_val)\n",
    "y_pred\n",
    "# SOLUTION \n"
   ]
  },
  {
   "cell_type": "markdown",
   "metadata": {},
   "source": [
    "For any model, we need a way of assessing how good our predictions are. LogisticRegression has a method, score(X, y), which returns the mean accuracy, or the percent of samples correctly classified, on the given test data and provided labels. It first uses the trained model to predict the classes for the samples in X, then compares those to the true classes in y. "
   ]
  },
  {
   "cell_type": "code",
   "execution_count": 78,
   "metadata": {},
   "outputs": [
    {
     "data": {
      "text/plain": [
       "1.0"
      ]
     },
     "execution_count": 78,
     "metadata": {},
     "output_type": "execute_result"
    }
   ],
   "source": [
    "#Output the score of your model on your validation set\n",
    "log_reg.score(X_val, y_val)\n",
    "# SOLUTION\n"
   ]
  },
  {
   "cell_type": "markdown",
   "metadata": {},
   "source": [
    "<h2> Confusion Matrix </h2>\n",
    "\n",
    "Logistic regression appears to do a pretty good job of classifying the samples by species. We may want to look more carefully at where the classifier succeeded and where it failed. Doing so can illuminate similarities between classes or suggest the need for additional features to help the model differentiate between classes. \n",
    "\n",
    "One tool for understanding the success of a classifier is a confusion matrix, which breaks down the predicted classifications by true class: for each true class, it shows how many samples were predicted to be in each possible class. Pandas contains a tool, crosstab, for creating them."
   ]
  },
  {
   "cell_type": "code",
   "execution_count": 79,
   "metadata": {},
   "outputs": [
    {
     "name": "stdout",
     "output_type": "stream",
     "text": [
      "Predicted Class  Iris-setosa  Iris-versicolor  Iris-virginica\n",
      "True Class                                                   \n",
      "Iris-setosa                7                0               0\n",
      "Iris-versicolor            0                6               0\n",
      "Iris-virginica             0                0              11\n"
     ]
    }
   ],
   "source": [
    "# check if this logistic regression model has been fit\n",
    "if hasattr(log_reg, 'coef_') and log_reg.coef_ is not None:\n",
    "    predictions = log_reg.predict(X_val)\n",
    "    print(pd.crosstab(y_val, predictions, rownames = ['True Class'], colnames= ['Predicted Class'] ))"
   ]
  },
  {
   "cell_type": "markdown",
   "metadata": {},
   "source": [
    "<h2> Hyperparameters </h2>\n",
    "\n",
    "Recall that <b> hyperparameters </b> are parameters of the machine learning model itself that can be adjusted to produce a better fitting model. One of the most important applications of hyperparameters is in <b> regularization </b>, a technique to help avoid overfitting. Regularization essentially sacrifices the \"best\" model for the training data in return for a model that can generalize better to test data. \n",
    "\n",
    "One form of regularization works by penalizing models that have coefficients that are \"too big\". For example, in a linear model $y = a_1 x + a_2$, we might want to avoid models that have very steep slopes or very large intercepts. Controlling $a_1$ and $a_2$ allows us to do so. \n",
    "\n",
    "Two forms of regularization are commonly used for Logistic Regression: l1 and l2 (pronounced \"ell 1\" and \"ell 2\")\n",
    "1. In l2 regularization, we control the size of the coefficients by penalizing the model for having a large sum of squared coefficients (eg, $a_1^2 + a_2^2$). This is the default regularization in Scikit-Learn's LogisticRegression.  \n",
    "3. In l1 regularization, we control the size of the coefficients by penalizing the model for having a large sum of the absolute value of the coefficients (eg, $|a_1| + |a_2|$). l1 regularization favors \"sparse solutions\". A sparse solution is when one or more of the feature weights is 0. The more l1 regularization we have, the sparser the solution we get. For this reason, l1 regularization can be used for feature selection.\n",
    "\n",
    "To try different types of regularization in Scikit-Learn, you need to initialize LogisticRegression with two parameters:\n",
    "\n",
    "1. penalty: Type of regularization; a string, either 'l1' or 'l2'\n",
    "2. C: The inverse of regularization strength; a positive float that determines how much to penalize the model for large coefficients. Note that since it's the inverse, smaller values of C mean a more regularized model (i.e. smaller coefficients). "
   ]
  },
  {
   "cell_type": "code",
   "execution_count": 89,
   "metadata": {},
   "outputs": [
    {
     "name": "stdout",
     "output_type": "stream",
     "text": [
      "Predicted Class  Iris-setosa  Iris-versicolor  Iris-virginica\n",
      "True Class                                                   \n",
      "Iris-setosa                7                0               0\n",
      "Iris-versicolor            0                4               2\n",
      "Iris-virginica             0                0              11\n"
     ]
    }
   ],
   "source": [
    "# Try some different combinations of C and penalty and see how they affect the score on the validation set. \n",
    "log_reg = LogisticRegression(C=0.1, penalty='l2')\n",
    "log_reg.fit(X_train, y_train)\n",
    "if hasattr(log_reg, 'coef_') and log_reg.coef_ is not None:\n",
    "    predictions = log_reg.predict(X_val)\n",
    "    print(pd.crosstab(y_val, predictions, rownames = ['True Class'], colnames= ['Predicted Class'] ))\n",
    "# SOLUTION\n"
   ]
  },
  {
   "cell_type": "markdown",
   "metadata": {},
   "source": [
    "<h2> Using GridSearch for hyperparameter tuning </h2>\n",
    "\n",
    "Scikit-Learn has a tool to make this kind of hyperparameter tuning easier. \n",
    "\n",
    "Recall that cross validiation is another technique for assessing the quality of a model. Instead of splitting the training data once into a test set and a validation set, in cross validation, the data is divided into $n$ subsets, called folds, and the model is trained $n$ times, each time witholding a different fold to use as the validation set. \n",
    "\n",
    "<img src=\"cross_validation_split.png\" alt=\"Cross Validation\" style=\"width: 717px;\"/>\n",
    "\n",
    "Cross validation can be helpful for small datasets, since every data point is used to assess the model performance, rather than just a fixed subset.\n",
    "\n",
    "In Scikit-Learn, GridSearchCV is used to accomplish this kind of parameter tuning. Given a Scikit-Learn estimator object (eg, LogisticRegression), a dictionary listing all the parameters to try, and a scoring method, GridSearchCV will train a model for every parameter combination and show the score for every combination. \n",
    "\n",
    "Once GridSearchCV has fit the model, you can access cv\\_results\\_, a matrix of results, as well as best\\_estimator\\_, best\\_score\\_, and others. See http://scikit-learn.org/stable/modules/generated/sklearn.model_selection.GridSearchCV.html for full details. \n",
    "\n",
    "Since we are working on a classification problem, we will use accuracy as our scoring method, but GridSearchCV (and Scikit-Learn) supports many other types of scores, assuming they're supported by the estimator object. See http://scikit-learn.org/stable/modules/model_evaluation.html#scoring-parameter for a complete list. "
   ]
  },
  {
   "cell_type": "code",
   "execution_count": 90,
   "metadata": {},
   "outputs": [
    {
     "data": {
      "text/html": [
       "<div>\n",
       "<style scoped>\n",
       "    .dataframe tbody tr th:only-of-type {\n",
       "        vertical-align: middle;\n",
       "    }\n",
       "\n",
       "    .dataframe tbody tr th {\n",
       "        vertical-align: top;\n",
       "    }\n",
       "\n",
       "    .dataframe thead th {\n",
       "        text-align: right;\n",
       "    }\n",
       "</style>\n",
       "<table border=\"1\" class=\"dataframe\">\n",
       "  <thead>\n",
       "    <tr style=\"text-align: right;\">\n",
       "      <th></th>\n",
       "      <th>param_C</th>\n",
       "      <th>param_penalty</th>\n",
       "      <th>mean_test_score</th>\n",
       "      <th>rank_test_score</th>\n",
       "    </tr>\n",
       "  </thead>\n",
       "  <tbody>\n",
       "    <tr>\n",
       "      <th>0</th>\n",
       "      <td>1e-05</td>\n",
       "      <td>l1</td>\n",
       "      <td>0.333333</td>\n",
       "      <td>17</td>\n",
       "    </tr>\n",
       "    <tr>\n",
       "      <th>1</th>\n",
       "      <td>1e-05</td>\n",
       "      <td>l2</td>\n",
       "      <td>0.341667</td>\n",
       "      <td>14</td>\n",
       "    </tr>\n",
       "    <tr>\n",
       "      <th>2</th>\n",
       "      <td>0.0001</td>\n",
       "      <td>l1</td>\n",
       "      <td>0.333333</td>\n",
       "      <td>17</td>\n",
       "    </tr>\n",
       "    <tr>\n",
       "      <th>3</th>\n",
       "      <td>0.0001</td>\n",
       "      <td>l2</td>\n",
       "      <td>0.341667</td>\n",
       "      <td>14</td>\n",
       "    </tr>\n",
       "    <tr>\n",
       "      <th>4</th>\n",
       "      <td>0.001</td>\n",
       "      <td>l1</td>\n",
       "      <td>0.333333</td>\n",
       "      <td>17</td>\n",
       "    </tr>\n",
       "    <tr>\n",
       "      <th>5</th>\n",
       "      <td>0.001</td>\n",
       "      <td>l2</td>\n",
       "      <td>0.341667</td>\n",
       "      <td>14</td>\n",
       "    </tr>\n",
       "    <tr>\n",
       "      <th>6</th>\n",
       "      <td>0.01</td>\n",
       "      <td>l1</td>\n",
       "      <td>0.325000</td>\n",
       "      <td>20</td>\n",
       "    </tr>\n",
       "    <tr>\n",
       "      <th>7</th>\n",
       "      <td>0.01</td>\n",
       "      <td>l2</td>\n",
       "      <td>0.675000</td>\n",
       "      <td>13</td>\n",
       "    </tr>\n",
       "    <tr>\n",
       "      <th>8</th>\n",
       "      <td>0.1</td>\n",
       "      <td>l1</td>\n",
       "      <td>0.700000</td>\n",
       "      <td>12</td>\n",
       "    </tr>\n",
       "    <tr>\n",
       "      <th>9</th>\n",
       "      <td>0.1</td>\n",
       "      <td>l2</td>\n",
       "      <td>0.816667</td>\n",
       "      <td>11</td>\n",
       "    </tr>\n",
       "    <tr>\n",
       "      <th>10</th>\n",
       "      <td>1</td>\n",
       "      <td>l1</td>\n",
       "      <td>0.941667</td>\n",
       "      <td>9</td>\n",
       "    </tr>\n",
       "    <tr>\n",
       "      <th>11</th>\n",
       "      <td>1</td>\n",
       "      <td>l2</td>\n",
       "      <td>0.941667</td>\n",
       "      <td>9</td>\n",
       "    </tr>\n",
       "    <tr>\n",
       "      <th>12</th>\n",
       "      <td>10</td>\n",
       "      <td>l1</td>\n",
       "      <td>0.958333</td>\n",
       "      <td>7</td>\n",
       "    </tr>\n",
       "    <tr>\n",
       "      <th>13</th>\n",
       "      <td>10</td>\n",
       "      <td>l2</td>\n",
       "      <td>0.966667</td>\n",
       "      <td>4</td>\n",
       "    </tr>\n",
       "    <tr>\n",
       "      <th>14</th>\n",
       "      <td>100</td>\n",
       "      <td>l1</td>\n",
       "      <td>0.958333</td>\n",
       "      <td>7</td>\n",
       "    </tr>\n",
       "    <tr>\n",
       "      <th>15</th>\n",
       "      <td>100</td>\n",
       "      <td>l2</td>\n",
       "      <td>0.975000</td>\n",
       "      <td>1</td>\n",
       "    </tr>\n",
       "    <tr>\n",
       "      <th>16</th>\n",
       "      <td>1000</td>\n",
       "      <td>l1</td>\n",
       "      <td>0.966667</td>\n",
       "      <td>4</td>\n",
       "    </tr>\n",
       "    <tr>\n",
       "      <th>17</th>\n",
       "      <td>1000</td>\n",
       "      <td>l2</td>\n",
       "      <td>0.975000</td>\n",
       "      <td>1</td>\n",
       "    </tr>\n",
       "    <tr>\n",
       "      <th>18</th>\n",
       "      <td>10000</td>\n",
       "      <td>l1</td>\n",
       "      <td>0.966667</td>\n",
       "      <td>4</td>\n",
       "    </tr>\n",
       "    <tr>\n",
       "      <th>19</th>\n",
       "      <td>10000</td>\n",
       "      <td>l2</td>\n",
       "      <td>0.975000</td>\n",
       "      <td>1</td>\n",
       "    </tr>\n",
       "  </tbody>\n",
       "</table>\n",
       "</div>"
      ],
      "text/plain": [
       "   param_C param_penalty  mean_test_score  rank_test_score\n",
       "0    1e-05            l1         0.333333               17\n",
       "1    1e-05            l2         0.341667               14\n",
       "2   0.0001            l1         0.333333               17\n",
       "3   0.0001            l2         0.341667               14\n",
       "4    0.001            l1         0.333333               17\n",
       "5    0.001            l2         0.341667               14\n",
       "6     0.01            l1         0.325000               20\n",
       "7     0.01            l2         0.675000               13\n",
       "8      0.1            l1         0.700000               12\n",
       "9      0.1            l2         0.816667               11\n",
       "10       1            l1         0.941667                9\n",
       "11       1            l2         0.941667                9\n",
       "12      10            l1         0.958333                7\n",
       "13      10            l2         0.966667                4\n",
       "14     100            l1         0.958333                7\n",
       "15     100            l2         0.975000                1\n",
       "16    1000            l1         0.966667                4\n",
       "17    1000            l2         0.975000                1\n",
       "18   10000            l1         0.966667                4\n",
       "19   10000            l2         0.975000                1"
      ]
     },
     "execution_count": 90,
     "metadata": {},
     "output_type": "execute_result"
    }
   ],
   "source": [
    "#Using GridSearchCV, train models on for a wide variety of hyperparameters\n",
    "\n",
    "from sklearn.model_selection import GridSearchCV\n",
    "param_grid = [{'C':[1e-5, 0.0001, 0.001, 0.01, 0.1, 1.0, 10.0, 100.0, 1000.0, 10000.0], 'penalty':['l1', 'l2']}]\n",
    "log_reg = LogisticRegression()\n",
    "grid_search = GridSearchCV(log_reg, param_grid, cv=5, scoring='accuracy', return_train_score=False)\n",
    "grid_search.fit(X_train_all, y_train_all)\n",
    "results = pd.DataFrame(grid_search.cv_results_)\n",
    "\n",
    "#There's lots of data in the results dataframe - we'll just look at a few columns here, but feel free to explore\n",
    "results[[\"param_C\",\"param_penalty\", \"mean_test_score\", \"rank_test_score\"]]"
   ]
  },
  {
   "cell_type": "markdown",
   "metadata": {},
   "source": [
    "<h2> Trying other models </h2>\n",
    "\n",
    "Logistic Regression is a very common basic classification algorithm, but there are others you can also try. \n",
    "\n",
    "<h3>K Nearest Neighbors </h3>\n",
    "In K Nearest Neighbors classification, the prediction function identifies the K \"nearest neighbors\" to an input feature vector, and predicts the most frequently occurring class among those neighbors. The nearest neighbors are typically found using the standard euclidean distance, though any other similarity score may be used instead.The K in K nearest neighbors is a hyperparameter: small values of K will provide a more flexible, granular fit, but will be sensitive to noise. Larger values of K will be more resilient to noise but less likely to pick up small variations in the boundaries. \n",
    "\n",
    "\n",
    "To implement a K Nearest Neighbors model, use Scikit-Learn's KNeighborsClassifier. Initialize it with n\\_neighbors and \n",
    "then fit, predict, and score your model just like LogisticRegression. For more details, see http://scikit-learn.org/stable/modules/generated/sklearn.neighbors.KNeighborsClassifier.html\n"
   ]
  },
  {
   "cell_type": "code",
   "execution_count": 113,
   "metadata": {},
   "outputs": [
    {
     "name": "stdout",
     "output_type": "stream",
     "text": [
      "Predicted Class  Iris-setosa  Iris-versicolor  Iris-virginica\n",
      "True Class                                                   \n",
      "Iris-setosa                7                0               0\n",
      "Iris-versicolor            0                6               0\n",
      "Iris-virginica             0                0              11\n"
     ]
    }
   ],
   "source": [
    "# Try out K Nearest Neighbors\n",
    "from sklearn.neighbors import KNeighborsClassifier \n",
    "#Try out KNN with hp tuning\n",
    "from sklearn.model_selection import GridSearchCV\n",
    "param_grid = [{'n_neighbors':np.arange(1,10,1)}]\n",
    "KNN_model = KNeighborsClassifier()\n",
    "grid_search = GridSearchCV(KNN_model, param_grid, cv=5, scoring='accuracy', return_train_score=False)\n",
    "grid_search.fit(X_train_all, y_train_all)\n",
    "results = pd.DataFrame(grid_search.cv_results_)\n",
    "#There's lots of data in the results dataframe - we'll just look at a few columns here, but feel free to explore\n",
    "results[[\"param_n_neighbors\", \"mean_test_score\", \"rank_test_score\"]]\n",
    "\n",
    "KNN_model_opt = KNeighborsClassifier(n_neighbors = 3)\n",
    "KNN_model_opt.fit(X_train, y_train)\n",
    "predictions = KNN_model_opt.predict(X_val)\n",
    "print(pd.crosstab(y_val, predictions, rownames = ['True Class'], colnames= ['Predicted Class'] ))\n",
    "# SOLUTION\n"
   ]
  },
  {
   "cell_type": "markdown",
   "metadata": {},
   "source": [
    "<h3> Random Forest Classifier </h3>\n",
    "\n",
    "Random forest is an aggregation of another type of model, decision trees. A decision tree uses a series of decisions to try to classify a sample. For example, possible decision tree logic could be: \n",
    "\n",
    "If sepal length is less than 4.5, classify as versicolor. If sepal length is greater than 4.5, then look at petal length; if petal length is greater than 1.5, classify as setosa, otherwise classify as virginica. \n",
    "\n",
    "In Random Forest classification, many decision trees are built on the data, and each will be different because of some randomness introduced in the tree-building process. These trees then all \"vote\" on the classification of an input. One benefit of random forest models is insight into feature selection, since the multiple trees can generate data about which features are most relevant to each decision. \n",
    "\n",
    "In Scikit-Learn, use RandomForestClassifier to implement a Random Forest model. Initialize it with n\\_estimators, the number of trees in the forest. It is also helpful to initialize the random_state so you can reproduce your model. Fit, predict, and score work as they do for the other estimators, but you can also take a look at feature\\_importances\\_ to see which features are most important in your model. See the docs at http://scikit-learn.org/stable/modules/generated/sklearn.ensemble.RandomForestClassifier.html"
   ]
  },
  {
   "cell_type": "code",
   "execution_count": 114,
   "metadata": {},
   "outputs": [
    {
     "name": "stdout",
     "output_type": "stream",
     "text": [
      "Predicted Class  Iris-setosa  Iris-versicolor  Iris-virginica\n",
      "True Class                                                   \n",
      "Iris-setosa                7                0               0\n",
      "Iris-versicolor            0                5               1\n",
      "Iris-virginica             0                1              10\n"
     ]
    },
    {
     "name": "stderr",
     "output_type": "stream",
     "text": [
      "/usr/local/lib/python2.7/dist-packages/sklearn/ensemble/weight_boosting.py:29: DeprecationWarning: numpy.core.umath_tests is an internal NumPy module and should not be imported. It will be removed in a future NumPy release.\n",
      "  from numpy.core.umath_tests import inner1d\n"
     ]
    }
   ],
   "source": [
    "# Try out Random Forest Classifier\n",
    "from sklearn.ensemble import RandomForestClassifier\n",
    "random_forest = RandomForestClassifier(random_state=42, n_estimators=20)\n",
    "random_forest.fit(X_train, y_train)\n",
    "predictions = random_forest.predict(X_val)\n",
    "print(pd.crosstab(y_val, predictions, rownames = ['True Class'], colnames= ['Predicted Class'] ))\n",
    "# SOLUTION\n"
   ]
  },
  {
   "cell_type": "markdown",
   "metadata": {},
   "source": [
    "<h2> Comparing Between Models </h2>\n",
    "\n",
    "With three different models, all with pretty good performance, we need some way to choose the best. Because the dataset is so small, looking at the score on the validation set is very sensitive to variations in how the data was split. Cross validation will be helpful here; training and scoring the different models on different folds of the data will give us a better sense of overall performance. \n",
    "\n",
    "GridSearchCV is written for only one model. We can get around that by writing a wrapper class that takes the model we want to use as a hyperparameter. GridSearchCV will be able to use our wrapper as long as we provide the standard API. "
   ]
  },
  {
   "cell_type": "code",
   "execution_count": 115,
   "metadata": {},
   "outputs": [],
   "source": [
    "from sklearn.base import BaseEstimator, RegressorMixin, ClassifierMixin\n",
    "\n",
    "class CrossValidationModelWrapper(BaseEstimator, RegressorMixin):  \n",
    "    \"\"\"sklearn wrapper for our classifiers\"\"\"\n",
    "     \n",
    "    def __init__(self, model='LogisticRegression', n_neighbors=20, n_estimators=20, C=1, penalty='l2'):        \n",
    "        self.model = model\n",
    "        self.n_neighbors = n_neighbors\n",
    "        self.n_estimators = n_estimators\n",
    "        self.C = C\n",
    "        self.penalty = penalty \n",
    "\n",
    "    def fit(self, X, y=None):\n",
    "        if (self.model == \"LogisticRegression\"):\n",
    "            self.classifier = LogisticRegression(C=self.C, penalty=self.penalty)\n",
    "        elif (self.model == \"KNeighborsClassifier\"):\n",
    "            self.classifier = KNeighborsClassifier(n_neighbors = self.n_neighbors)\n",
    "        elif (self.model == \"RandomForestClassifier\"):\n",
    "            self.classifier = RandomForestClassifier(random_state=42, n_estimators=self.n_estimators)\n",
    "        else:\n",
    "            raise ValueError('Unrecognized Classifier')\n",
    "        \n",
    "        self.classifier.fit(X, y)\n",
    "\n",
    "        return self\n",
    "\n",
    "    def predict(self, X, y=None):\n",
    "        try:\n",
    "            getattr(self, \"classifier\")\n",
    "        except AttributeError:\n",
    "            raise RuntimeError(\"You must train classifer before predicting data!\")\n",
    "\n",
    "        return(self.classifier.predict(X))\n",
    "\n",
    "    def score(self, X, y=None):\n",
    "        return(self.classifier.score(X, y)) \n",
    "    "
   ]
  },
  {
   "cell_type": "markdown",
   "metadata": {},
   "source": [
    "We can now use this wrapper to perform GridSearch. Customize the parameters in the parameter grid below to find the optimal sets of hyperparameters."
   ]
  },
  {
   "cell_type": "code",
   "execution_count": 120,
   "metadata": {},
   "outputs": [
    {
     "data": {
      "text/html": [
       "<div>\n",
       "<style scoped>\n",
       "    .dataframe tbody tr th:only-of-type {\n",
       "        vertical-align: middle;\n",
       "    }\n",
       "\n",
       "    .dataframe tbody tr th {\n",
       "        vertical-align: top;\n",
       "    }\n",
       "\n",
       "    .dataframe thead th {\n",
       "        text-align: right;\n",
       "    }\n",
       "</style>\n",
       "<table border=\"1\" class=\"dataframe\">\n",
       "  <thead>\n",
       "    <tr style=\"text-align: right;\">\n",
       "      <th></th>\n",
       "      <th>param_model</th>\n",
       "      <th>param_n_neighbors</th>\n",
       "      <th>param_n_estimators</th>\n",
       "      <th>param_C</th>\n",
       "      <th>param_penalty</th>\n",
       "      <th>mean_test_score</th>\n",
       "      <th>rank_test_score</th>\n",
       "    </tr>\n",
       "  </thead>\n",
       "  <tbody>\n",
       "    <tr>\n",
       "      <th>0</th>\n",
       "      <td>LogisticRegression</td>\n",
       "      <td>-</td>\n",
       "      <td>-</td>\n",
       "      <td>0.1</td>\n",
       "      <td>l1</td>\n",
       "      <td>0.691667</td>\n",
       "      <td>17</td>\n",
       "    </tr>\n",
       "    <tr>\n",
       "      <th>1</th>\n",
       "      <td>LogisticRegression</td>\n",
       "      <td>-</td>\n",
       "      <td>-</td>\n",
       "      <td>0.1</td>\n",
       "      <td>l2</td>\n",
       "      <td>0.791667</td>\n",
       "      <td>16</td>\n",
       "    </tr>\n",
       "    <tr>\n",
       "      <th>2</th>\n",
       "      <td>LogisticRegression</td>\n",
       "      <td>-</td>\n",
       "      <td>-</td>\n",
       "      <td>1</td>\n",
       "      <td>l1</td>\n",
       "      <td>0.950000</td>\n",
       "      <td>14</td>\n",
       "    </tr>\n",
       "    <tr>\n",
       "      <th>3</th>\n",
       "      <td>LogisticRegression</td>\n",
       "      <td>-</td>\n",
       "      <td>-</td>\n",
       "      <td>1</td>\n",
       "      <td>l2</td>\n",
       "      <td>0.950000</td>\n",
       "      <td>14</td>\n",
       "    </tr>\n",
       "    <tr>\n",
       "      <th>4</th>\n",
       "      <td>LogisticRegression</td>\n",
       "      <td>-</td>\n",
       "      <td>-</td>\n",
       "      <td>10</td>\n",
       "      <td>l1</td>\n",
       "      <td>0.958333</td>\n",
       "      <td>10</td>\n",
       "    </tr>\n",
       "    <tr>\n",
       "      <th>5</th>\n",
       "      <td>LogisticRegression</td>\n",
       "      <td>-</td>\n",
       "      <td>-</td>\n",
       "      <td>10</td>\n",
       "      <td>l2</td>\n",
       "      <td>0.975000</td>\n",
       "      <td>4</td>\n",
       "    </tr>\n",
       "    <tr>\n",
       "      <th>6</th>\n",
       "      <td>KNeighborsClassifier</td>\n",
       "      <td>1</td>\n",
       "      <td>-</td>\n",
       "      <td>-</td>\n",
       "      <td>-</td>\n",
       "      <td>0.975000</td>\n",
       "      <td>4</td>\n",
       "    </tr>\n",
       "    <tr>\n",
       "      <th>7</th>\n",
       "      <td>KNeighborsClassifier</td>\n",
       "      <td>3</td>\n",
       "      <td>-</td>\n",
       "      <td>-</td>\n",
       "      <td>-</td>\n",
       "      <td>0.983333</td>\n",
       "      <td>1</td>\n",
       "    </tr>\n",
       "    <tr>\n",
       "      <th>8</th>\n",
       "      <td>KNeighborsClassifier</td>\n",
       "      <td>5</td>\n",
       "      <td>-</td>\n",
       "      <td>-</td>\n",
       "      <td>-</td>\n",
       "      <td>0.983333</td>\n",
       "      <td>1</td>\n",
       "    </tr>\n",
       "    <tr>\n",
       "      <th>9</th>\n",
       "      <td>KNeighborsClassifier</td>\n",
       "      <td>6</td>\n",
       "      <td>-</td>\n",
       "      <td>-</td>\n",
       "      <td>-</td>\n",
       "      <td>0.983333</td>\n",
       "      <td>1</td>\n",
       "    </tr>\n",
       "    <tr>\n",
       "      <th>10</th>\n",
       "      <td>KNeighborsClassifier</td>\n",
       "      <td>8</td>\n",
       "      <td>-</td>\n",
       "      <td>-</td>\n",
       "      <td>-</td>\n",
       "      <td>0.958333</td>\n",
       "      <td>10</td>\n",
       "    </tr>\n",
       "    <tr>\n",
       "      <th>11</th>\n",
       "      <td>KNeighborsClassifier</td>\n",
       "      <td>10</td>\n",
       "      <td>-</td>\n",
       "      <td>-</td>\n",
       "      <td>-</td>\n",
       "      <td>0.975000</td>\n",
       "      <td>4</td>\n",
       "    </tr>\n",
       "    <tr>\n",
       "      <th>12</th>\n",
       "      <td>RandomForestClassifier</td>\n",
       "      <td>-</td>\n",
       "      <td>5</td>\n",
       "      <td>-</td>\n",
       "      <td>-</td>\n",
       "      <td>0.966667</td>\n",
       "      <td>7</td>\n",
       "    </tr>\n",
       "    <tr>\n",
       "      <th>13</th>\n",
       "      <td>RandomForestClassifier</td>\n",
       "      <td>-</td>\n",
       "      <td>10</td>\n",
       "      <td>-</td>\n",
       "      <td>-</td>\n",
       "      <td>0.958333</td>\n",
       "      <td>10</td>\n",
       "    </tr>\n",
       "    <tr>\n",
       "      <th>14</th>\n",
       "      <td>RandomForestClassifier</td>\n",
       "      <td>-</td>\n",
       "      <td>15</td>\n",
       "      <td>-</td>\n",
       "      <td>-</td>\n",
       "      <td>0.958333</td>\n",
       "      <td>10</td>\n",
       "    </tr>\n",
       "    <tr>\n",
       "      <th>15</th>\n",
       "      <td>RandomForestClassifier</td>\n",
       "      <td>-</td>\n",
       "      <td>20</td>\n",
       "      <td>-</td>\n",
       "      <td>-</td>\n",
       "      <td>0.966667</td>\n",
       "      <td>7</td>\n",
       "    </tr>\n",
       "    <tr>\n",
       "      <th>16</th>\n",
       "      <td>RandomForestClassifier</td>\n",
       "      <td>-</td>\n",
       "      <td>25</td>\n",
       "      <td>-</td>\n",
       "      <td>-</td>\n",
       "      <td>0.966667</td>\n",
       "      <td>7</td>\n",
       "    </tr>\n",
       "  </tbody>\n",
       "</table>\n",
       "</div>"
      ],
      "text/plain": [
       "               param_model param_n_neighbors param_n_estimators param_C  \\\n",
       "0       LogisticRegression                 -                  -     0.1   \n",
       "1       LogisticRegression                 -                  -     0.1   \n",
       "2       LogisticRegression                 -                  -       1   \n",
       "3       LogisticRegression                 -                  -       1   \n",
       "4       LogisticRegression                 -                  -      10   \n",
       "5       LogisticRegression                 -                  -      10   \n",
       "6     KNeighborsClassifier                 1                  -       -   \n",
       "7     KNeighborsClassifier                 3                  -       -   \n",
       "8     KNeighborsClassifier                 5                  -       -   \n",
       "9     KNeighborsClassifier                 6                  -       -   \n",
       "10    KNeighborsClassifier                 8                  -       -   \n",
       "11    KNeighborsClassifier                10                  -       -   \n",
       "12  RandomForestClassifier                 -                  5       -   \n",
       "13  RandomForestClassifier                 -                 10       -   \n",
       "14  RandomForestClassifier                 -                 15       -   \n",
       "15  RandomForestClassifier                 -                 20       -   \n",
       "16  RandomForestClassifier                 -                 25       -   \n",
       "\n",
       "   param_penalty  mean_test_score  rank_test_score  \n",
       "0             l1         0.691667               17  \n",
       "1             l2         0.791667               16  \n",
       "2             l1         0.950000               14  \n",
       "3             l2         0.950000               14  \n",
       "4             l1         0.958333               10  \n",
       "5             l2         0.975000                4  \n",
       "6              -         0.975000                4  \n",
       "7              -         0.983333                1  \n",
       "8              -         0.983333                1  \n",
       "9              -         0.983333                1  \n",
       "10             -         0.958333               10  \n",
       "11             -         0.975000                4  \n",
       "12             -         0.966667                7  \n",
       "13             -         0.958333               10  \n",
       "14             -         0.958333               10  \n",
       "15             -         0.966667                7  \n",
       "16             -         0.966667                7  "
      ]
     },
     "execution_count": 120,
     "metadata": {},
     "output_type": "execute_result"
    }
   ],
   "source": [
    "param_grid = [{'model': ['LogisticRegression'], 'C': [0.1, 1.0, 10.0], 'penalty':['l1', 'l2'] }, \n",
    "              {'model': ['KNeighborsClassifier'], 'n_neighbors': [1, 3, 5, 6, 8, 10]},\n",
    "              {'model': ['RandomForestClassifier'], 'n_estimators':[5, 10, 15, 20, 25]}]\n",
    "cv_wrapper = CrossValidationModelWrapper()\n",
    "grid_search = GridSearchCV(cv_wrapper, param_grid, cv=5, scoring='accuracy', return_train_score=False)\n",
    "grid_search.fit(X_train_all, y_train_all)\n",
    "results = pd.DataFrame(grid_search.cv_results_)\n",
    "results[[\"param_model\", \"param_n_neighbors\", \"param_n_estimators\", \n",
    "         \"param_C\",\"param_penalty\", \"mean_test_score\", \"rank_test_score\"]].fillna('-')"
   ]
  },
  {
   "cell_type": "markdown",
   "metadata": {},
   "source": [
    "<h2> Train and test your final model! </h2>\n",
    "\n",
    "Choose your best performing model from above and use it to predict the species of your test data."
   ]
  },
  {
   "cell_type": "code",
   "execution_count": 121,
   "metadata": {},
   "outputs": [
    {
     "name": "stdout",
     "output_type": "stream",
     "text": [
      "Predicted Class  Iris-setosa  Iris-versicolor  Iris-virginica\n",
      "True Class                                                   \n",
      "Iris-setosa                7                0               0\n",
      "Iris-versicolor            0                6               0\n",
      "Iris-virginica             0                0              11\n"
     ]
    }
   ],
   "source": [
    "# SOLUTION\n",
    "KNN_model_opt = KNeighborsClassifier(n_neighbors = 3)\n",
    "KNN_model_opt.fit(X_train, y_train)\n",
    "predictions = KNN_model_opt.predict(X_val)\n",
    "print(pd.crosstab(y_val, predictions, rownames = ['True Class'], colnames= ['Predicted Class'] ))"
   ]
  },
  {
   "cell_type": "markdown",
   "metadata": {},
   "source": [
    "## Appendix 1: Numpy"
   ]
  },
  {
   "cell_type": "code",
   "execution_count": 122,
   "metadata": {},
   "outputs": [],
   "source": [
    "def load_csv(path, loader=lambda x: open(x).read(), **kwargs):\n",
    "    return loader(path, **kwargs)\n",
    "\n",
    "iris_text = load_csv(iris_csv_path)"
   ]
  },
  {
   "cell_type": "code",
   "execution_count": 123,
   "metadata": {},
   "outputs": [
    {
     "data": {
      "text/plain": [
       "'sepal_length,sepal_width,petal_length,petal_width,class\\n5.1,3.5,1.4,0.2,Iris-setosa\\n4.9,3.0,1.4,0.2,Iris-setosa\\n4.7,3.2,1.3,0.2,Iris-setosa\\n4.6,3.1,1.5,0.2,Iris-setosa\\n5.0,3.6,1.4,0.2,Iris-setosa\\n5.4,'"
      ]
     },
     "execution_count": 123,
     "metadata": {},
     "output_type": "execute_result"
    }
   ],
   "source": [
    "iris_text[:200]"
   ]
  },
  {
   "cell_type": "markdown",
   "metadata": {},
   "source": [
    "Obviously, this format is not going to be very easy to work with! \n",
    "\n",
    "Our next thought might be to parse the csv into a list of lists, but using the popular library `numpy`, we can do even better. The following code loads the csv into an n-dimensional array, called an `ndarray` in numpy parlance. \n",
    "\n",
    "This data structure is similar in principal to python's native lists, but are faster, more memory efficient, and have some handy additional features."
   ]
  },
  {
   "cell_type": "code",
   "execution_count": 124,
   "metadata": {},
   "outputs": [
    {
     "name": "stderr",
     "output_type": "stream",
     "text": [
      "/usr/local/lib/python2.7/dist-packages/ipykernel_launcher.py:2: VisibleDeprecationWarning: Reading unicode strings without specifying the encoding argument is deprecated. Set the encoding, use None for the system default.\n",
      "  \n"
     ]
    }
   ],
   "source": [
    "def array_loader(path, **kwargs):\n",
    "    return np.genfromtxt(path, delimiter=',', autostrip=True, **kwargs)\n",
    "\n",
    "iris_ndarray = load_csv(iris_csv_path, loader=array_loader, names=True, dtype=None)"
   ]
  },
  {
   "cell_type": "code",
   "execution_count": 125,
   "metadata": {},
   "outputs": [
    {
     "data": {
      "text/plain": [
       "array([(5.1, 3.5, 1.4, 0.2, 'Iris-setosa'),\n",
       "       (4.9, 3. , 1.4, 0.2, 'Iris-setosa'),\n",
       "       (4.7, 3.2, 1.3, 0.2, 'Iris-setosa'),\n",
       "       (4.6, 3.1, 1.5, 0.2, 'Iris-setosa'),\n",
       "       (5. , 3.6, 1.4, 0.2, 'Iris-setosa'),\n",
       "       (5.4, 3.9, 1.7, 0.4, 'Iris-setosa'),\n",
       "       (4.6, 3.4, 1.4, 0.3, 'Iris-setosa'),\n",
       "       (5. , 3.4, 1.5, 0.2, 'Iris-setosa'),\n",
       "       (4.4, 2.9, 1.4, 0.2, 'Iris-setosa'),\n",
       "       (4.9, 3.1, 1.5, 0.1, 'Iris-setosa')],\n",
       "      dtype=[('sepal_length', '<f8'), ('sepal_width', '<f8'), ('petal_length', '<f8'), ('petal_width', '<f8'), ('class', 'S15')])"
      ]
     },
     "execution_count": 125,
     "metadata": {},
     "output_type": "execute_result"
    }
   ],
   "source": [
    "iris_ndarray[:10]"
   ]
  },
  {
   "cell_type": "code",
   "execution_count": 126,
   "metadata": {},
   "outputs": [
    {
     "data": {
      "text/plain": [
       "(150,)"
      ]
     },
     "execution_count": 126,
     "metadata": {},
     "output_type": "execute_result"
    }
   ],
   "source": [
    "iris_ndarray.shape"
   ]
  },
  {
   "cell_type": "markdown",
   "metadata": {},
   "source": [
    "An important point to note is that the `ndarray` is a homogenous data-structure. Since our CSV has both floats and strings, `numpy` gives us a one-dimensional array where each row is a tuple!\n",
    "\n",
    "One solution is to encode the the classes as floats:"
   ]
  },
  {
   "cell_type": "code",
   "execution_count": 127,
   "metadata": {},
   "outputs": [],
   "source": [
    "def class_converter(flower_class):\n",
    "    classes = [b'Iris-setosa', b'Iris-versicolor', b'Iris-virginica']\n",
    "    return float(classes.index(flower_class))\n",
    "\n",
    "iris_ndarray = load_csv(iris_csv_path, loader=array_loader, skip_header=1, converters={4: class_converter})"
   ]
  },
  {
   "cell_type": "code",
   "execution_count": 128,
   "metadata": {},
   "outputs": [
    {
     "data": {
      "text/plain": [
       "array([[5.1, 3.5, 1.4, 0.2, 0. ],\n",
       "       [4.9, 3. , 1.4, 0.2, 0. ],\n",
       "       [4.7, 3.2, 1.3, 0.2, 0. ],\n",
       "       [4.6, 3.1, 1.5, 0.2, 0. ],\n",
       "       [5. , 3.6, 1.4, 0.2, 0. ],\n",
       "       [5.4, 3.9, 1.7, 0.4, 0. ],\n",
       "       [4.6, 3.4, 1.4, 0.3, 0. ],\n",
       "       [5. , 3.4, 1.5, 0.2, 0. ],\n",
       "       [4.4, 2.9, 1.4, 0.2, 0. ],\n",
       "       [4.9, 3.1, 1.5, 0.1, 0. ]])"
      ]
     },
     "execution_count": 128,
     "metadata": {},
     "output_type": "execute_result"
    }
   ],
   "source": [
    "iris_ndarray[:10]"
   ]
  },
  {
   "cell_type": "code",
   "execution_count": 129,
   "metadata": {},
   "outputs": [
    {
     "data": {
      "text/plain": [
       "(150, 5)"
      ]
     },
     "execution_count": 129,
     "metadata": {},
     "output_type": "execute_result"
    }
   ],
   "source": [
    "iris_ndarray.shape"
   ]
  },
  {
   "cell_type": "markdown",
   "metadata": {},
   "source": [
    "When doing matrix operations, it is often to transpose some of the inputs. `numpy` makes this easy (compare these values to those from the first column above):"
   ]
  },
  {
   "cell_type": "code",
   "execution_count": 130,
   "metadata": {},
   "outputs": [
    {
     "data": {
      "text/plain": [
       "array([5.1, 4.9, 4.7, 4.6, 5. , 5.4, 4.6, 5. , 4.4, 4.9, 5.4, 4.8, 4.8,\n",
       "       4.3, 5.8, 5.7, 5.4, 5.1, 5.7, 5.1, 5.4, 5.1, 4.6, 5.1, 4.8, 5. ,\n",
       "       5. , 5.2, 5.2, 4.7, 4.8, 5.4, 5.2, 5.5, 4.9, 5. , 5.5, 4.9, 4.4,\n",
       "       5.1, 5. , 4.5, 4.4, 5. , 5.1, 4.8, 5.1, 4.6, 5.3, 5. , 7. , 6.4,\n",
       "       6.9, 5.5, 6.5, 5.7, 6.3, 4.9, 6.6, 5.2, 5. , 5.9, 6. , 6.1, 5.6,\n",
       "       6.7, 5.6, 5.8, 6.2, 5.6, 5.9, 6.1, 6.3, 6.1, 6.4, 6.6, 6.8, 6.7,\n",
       "       6. , 5.7, 5.5, 5.5, 5.8, 6. , 5.4, 6. , 6.7, 6.3, 5.6, 5.5, 5.5,\n",
       "       6.1, 5.8, 5. , 5.6, 5.7, 5.7, 6.2, 5.1, 5.7, 6.3, 5.8, 7.1, 6.3,\n",
       "       6.5, 7.6, 4.9, 7.3, 6.7, 7.2, 6.5, 6.4, 6.8, 5.7, 5.8, 6.4, 6.5,\n",
       "       7.7, 7.7, 6. , 6.9, 5.6, 7.7, 6.3, 6.7, 7.2, 6.2, 6.1, 6.4, 7.2,\n",
       "       7.4, 7.9, 6.4, 6.3, 6.1, 7.7, 6.3, 6.4, 6. , 6.9, 6.7, 6.9, 5.8,\n",
       "       6.8, 6.7, 6.7, 6.3, 6.5, 6.2, 5.9])"
      ]
     },
     "execution_count": 130,
     "metadata": {},
     "output_type": "execute_result"
    }
   ],
   "source": [
    "iris_ndarray.transpose()[0]"
   ]
  },
  {
   "cell_type": "markdown",
   "metadata": {},
   "source": [
    "## Appendix 2: Pandas"
   ]
  },
  {
   "cell_type": "markdown",
   "metadata": {},
   "source": [
    "Here's an example of leveraging data labels in order to merge two `Series` into a `DataFrame`"
   ]
  },
  {
   "cell_type": "code",
   "execution_count": 131,
   "metadata": {},
   "outputs": [],
   "source": [
    "ibm_eod_prices = [159.55, 155.88, 153.50, 153.60, 154.36, 154.06]\n",
    "ibm_dates = pd.DatetimeIndex(['2017-10-23', '2017-10-24', '2017-10-25', '2017-10-26', '2017-10-30', '2017-10-31'])\n",
    "ibm_series = pd.Series(ibm_eod_prices, index=ibm_dates)"
   ]
  },
  {
   "cell_type": "code",
   "execution_count": 132,
   "metadata": {},
   "outputs": [],
   "source": [
    "# mix up the dates a little\n",
    "aapl_eod_prices = [156.17, 157.10, 156.41, 163.05, 166.72, 169.04]\n",
    "aapl_dates = pd.DatetimeIndex(['2017-10-23', '2017-10-24', '2017-10-25', '2017-10-27', '2017-10-30', '2017-10-31'])\n",
    "aapl_series = pd.Series(aapl_eod_prices, index=aapl_dates)"
   ]
  },
  {
   "cell_type": "code",
   "execution_count": 133,
   "metadata": {},
   "outputs": [
    {
     "data": {
      "text/html": [
       "<div>\n",
       "<style scoped>\n",
       "    .dataframe tbody tr th:only-of-type {\n",
       "        vertical-align: middle;\n",
       "    }\n",
       "\n",
       "    .dataframe tbody tr th {\n",
       "        vertical-align: top;\n",
       "    }\n",
       "\n",
       "    .dataframe thead th {\n",
       "        text-align: right;\n",
       "    }\n",
       "</style>\n",
       "<table border=\"1\" class=\"dataframe\">\n",
       "  <thead>\n",
       "    <tr style=\"text-align: right;\">\n",
       "      <th></th>\n",
       "      <th>AAPL</th>\n",
       "      <th>IBM</th>\n",
       "    </tr>\n",
       "  </thead>\n",
       "  <tbody>\n",
       "    <tr>\n",
       "      <th>2017-10-23</th>\n",
       "      <td>156.17</td>\n",
       "      <td>159.55</td>\n",
       "    </tr>\n",
       "    <tr>\n",
       "      <th>2017-10-24</th>\n",
       "      <td>157.10</td>\n",
       "      <td>155.88</td>\n",
       "    </tr>\n",
       "    <tr>\n",
       "      <th>2017-10-25</th>\n",
       "      <td>156.41</td>\n",
       "      <td>153.50</td>\n",
       "    </tr>\n",
       "    <tr>\n",
       "      <th>2017-10-26</th>\n",
       "      <td>NaN</td>\n",
       "      <td>153.60</td>\n",
       "    </tr>\n",
       "    <tr>\n",
       "      <th>2017-10-27</th>\n",
       "      <td>163.05</td>\n",
       "      <td>NaN</td>\n",
       "    </tr>\n",
       "    <tr>\n",
       "      <th>2017-10-30</th>\n",
       "      <td>166.72</td>\n",
       "      <td>154.36</td>\n",
       "    </tr>\n",
       "    <tr>\n",
       "      <th>2017-10-31</th>\n",
       "      <td>169.04</td>\n",
       "      <td>154.06</td>\n",
       "    </tr>\n",
       "  </tbody>\n",
       "</table>\n",
       "</div>"
      ],
      "text/plain": [
       "              AAPL     IBM\n",
       "2017-10-23  156.17  159.55\n",
       "2017-10-24  157.10  155.88\n",
       "2017-10-25  156.41  153.50\n",
       "2017-10-26     NaN  153.60\n",
       "2017-10-27  163.05     NaN\n",
       "2017-10-30  166.72  154.36\n",
       "2017-10-31  169.04  154.06"
      ]
     },
     "execution_count": 133,
     "metadata": {},
     "output_type": "execute_result"
    }
   ],
   "source": [
    "pd.DataFrame({'IBM': ibm_series, 'AAPL': aapl_series})"
   ]
  },
  {
   "cell_type": "markdown",
   "metadata": {},
   "source": [
    "Often the dataframe requires some preprocessing before it's suitable in a model"
   ]
  },
  {
   "cell_type": "code",
   "execution_count": 134,
   "metadata": {},
   "outputs": [],
   "source": [
    "iris_features_copy = iris_df.drop('class', axis=1)"
   ]
  },
  {
   "cell_type": "code",
   "execution_count": 135,
   "metadata": {},
   "outputs": [],
   "source": [
    "iris_features_copy['sepal_interaction'] = iris_features_copy. \\\n",
    "    apply(lambda sample: sample['sepal_length'] * sample['sepal_width'], axis=1)"
   ]
  },
  {
   "cell_type": "code",
   "execution_count": 136,
   "metadata": {},
   "outputs": [
    {
     "data": {
      "text/html": [
       "<div>\n",
       "<style scoped>\n",
       "    .dataframe tbody tr th:only-of-type {\n",
       "        vertical-align: middle;\n",
       "    }\n",
       "\n",
       "    .dataframe tbody tr th {\n",
       "        vertical-align: top;\n",
       "    }\n",
       "\n",
       "    .dataframe thead th {\n",
       "        text-align: right;\n",
       "    }\n",
       "</style>\n",
       "<table border=\"1\" class=\"dataframe\">\n",
       "  <thead>\n",
       "    <tr style=\"text-align: right;\">\n",
       "      <th></th>\n",
       "      <th>sepal_length</th>\n",
       "      <th>sepal_width</th>\n",
       "      <th>petal_length</th>\n",
       "      <th>petal_width</th>\n",
       "      <th>sepal_interaction</th>\n",
       "    </tr>\n",
       "  </thead>\n",
       "  <tbody>\n",
       "    <tr>\n",
       "      <th>0</th>\n",
       "      <td>5.1</td>\n",
       "      <td>3.5</td>\n",
       "      <td>1.4</td>\n",
       "      <td>0.2</td>\n",
       "      <td>17.85</td>\n",
       "    </tr>\n",
       "    <tr>\n",
       "      <th>1</th>\n",
       "      <td>4.9</td>\n",
       "      <td>3.0</td>\n",
       "      <td>1.4</td>\n",
       "      <td>0.2</td>\n",
       "      <td>14.70</td>\n",
       "    </tr>\n",
       "    <tr>\n",
       "      <th>2</th>\n",
       "      <td>4.7</td>\n",
       "      <td>3.2</td>\n",
       "      <td>1.3</td>\n",
       "      <td>0.2</td>\n",
       "      <td>15.04</td>\n",
       "    </tr>\n",
       "    <tr>\n",
       "      <th>3</th>\n",
       "      <td>4.6</td>\n",
       "      <td>3.1</td>\n",
       "      <td>1.5</td>\n",
       "      <td>0.2</td>\n",
       "      <td>14.26</td>\n",
       "    </tr>\n",
       "    <tr>\n",
       "      <th>4</th>\n",
       "      <td>5.0</td>\n",
       "      <td>3.6</td>\n",
       "      <td>1.4</td>\n",
       "      <td>0.2</td>\n",
       "      <td>18.00</td>\n",
       "    </tr>\n",
       "  </tbody>\n",
       "</table>\n",
       "</div>"
      ],
      "text/plain": [
       "   sepal_length  sepal_width  petal_length  petal_width  sepal_interaction\n",
       "0           5.1          3.5           1.4          0.2              17.85\n",
       "1           4.9          3.0           1.4          0.2              14.70\n",
       "2           4.7          3.2           1.3          0.2              15.04\n",
       "3           4.6          3.1           1.5          0.2              14.26\n",
       "4           5.0          3.6           1.4          0.2              18.00"
      ]
     },
     "execution_count": 136,
     "metadata": {},
     "output_type": "execute_result"
    }
   ],
   "source": [
    "iris_features_copy.head()"
   ]
  },
  {
   "cell_type": "markdown",
   "metadata": {},
   "source": [
    "## Appendix 3: Kernel density plot\n",
    "\n",
    "The histogram produced in the previous section was a good start. However, the shape of the histogram can be sensitive to the number of bins, so it is hard to say if this distribution is really multi-modal (i.e. multiple peaks), or if we have simply chosen an inconvenient bin size. Furthermore, for some features (like sepal length and width) the histograms overlap, so it's hard to read. An alternative way to visualize the distribution of a feature is to use a kernel density estimate, which estimates the probability density function of the feature values (using a Gaussian kernel in this case). This section covers:\n",
    "\n",
    "* Creating a kernel density estimate of the distribution of a feature\n",
    "* Creating a line plot\n",
    "* Interpreting the plot"
   ]
  },
  {
   "cell_type": "markdown",
   "metadata": {},
   "source": [
    "### Line plots\n",
    "\n",
    "Simply pass an array of $x$ values and its corresponding $y$ values to `plt.plot` to draw a line plot."
   ]
  },
  {
   "cell_type": "code",
   "execution_count": 137,
   "metadata": {},
   "outputs": [
    {
     "data": {
      "text/plain": [
       "array([-5., -4., -3., -2., -1.,  0.,  1.,  2.,  3.,  4.,  5.])"
      ]
     },
     "execution_count": 137,
     "metadata": {},
     "output_type": "execute_result"
    }
   ],
   "source": [
    "x_values = np.linspace(-5, 5, num=11)  # array of 11 numbers, from -5 to 5, evenly spaced\n",
    "x_values"
   ]
  },
  {
   "cell_type": "code",
   "execution_count": 138,
   "metadata": {},
   "outputs": [
    {
     "data": {
      "text/plain": [
       "array([25., 16.,  9.,  4.,  1.,  0.,  1.,  4.,  9., 16., 25.])"
      ]
     },
     "execution_count": 138,
     "metadata": {},
     "output_type": "execute_result"
    }
   ],
   "source": [
    "def square(x):\n",
    "    return x ** 2\n",
    "\n",
    "y_values = square(x_values)\n",
    "y_values"
   ]
  },
  {
   "cell_type": "code",
   "execution_count": 139,
   "metadata": {},
   "outputs": [
    {
     "data": {
      "image/png": "[encoded data removed]",
      "text/plain": [
       "<Figure size 432x288 with 1 Axes>"
      ]
     },
     "metadata": {
      "needs_background": "light"
     },
     "output_type": "display_data"
    }
   ],
   "source": [
    "plt.plot(x_values, y_values)\n",
    "plt.xlabel('x')\n",
    "plt.ylabel('$x^2$');"
   ]
  },
  {
   "cell_type": "markdown",
   "metadata": {},
   "source": [
    "### Kernel density\n",
    "\n",
    "In order to plot a kernel density estimate instead of a histogram, we need to use `scipy.stats.gaussian_kde`.\n",
    "\n",
    "This function needs:\n",
    "\n",
    "1. the one-dimensional data whose density we want to estimate\n",
    "2. the kernel width of the gaussian to apply\n",
    "\n",
    "It returns a function that returns the estimated probability density for a given value."
   ]
  },
  {
   "cell_type": "markdown",
   "metadata": {},
   "source": [
    "### Exercise: Kernel density estimates separated by classes\n",
    "\n",
    "1. Replace the `...` with code to plot the KDE (kernel density estimate) of the given `feature_name`.\n",
    "2. Create a new cell to see what the density is for each feature (looping over `feature_names`):\n",
    "   \n",
    "   which feature seems to be the best for discriminating species? Which is the worst?"
   ]
  },
  {
   "cell_type": "code",
   "execution_count": 155,
   "metadata": {},
   "outputs": [
    {
     "data": {
      "image/png": "[encoded data removed]",
      "text/plain": [
       "<Figure size 432x288 with 1 Axes>"
      ]
     },
     "metadata": {
      "needs_background": "light"
     },
     "output_type": "display_data"
    }
   ],
   "source": [
    "import scipy.stats as stats\n",
    "\n",
    "def plot_kde(input_df, feature_name, classes, plt=plt):\n",
    "    # prepare the kernel density estimate parameters\n",
    "    min_val = input_df[feature_name].min()\n",
    "    max_val = input_df[feature_name].max()\n",
    "    # perform a rough estimate for an appropriate kernel width (alternatively, accept the default)\n",
    "    kernel_width = (max_val - min_val) / 10\n",
    "    # generate the feature values at which to estimate the density\n",
    "    x_values = np.linspace(min_val, max_val, num=100)\n",
    "    plt.figure()\n",
    "    \n",
    "    # extract the data by class\n",
    "    for cls in classes:\n",
    "        # get the feature values corresponding to the current class\n",
    "        feature_values = only_cls_feature_values(input_df, cls, feature_name)\n",
    "        # perform the kernel density estimate\n",
    "        kernel = stats.gaussian_kde(feature_values, bw_method=kernel_width)\n",
    "        # evaluate the density at our pre-selected feature values\n",
    "        density = kernel(x_values)\n",
    "        # add a line plot of the density estimate to the current figure\n",
    "        plt.plot(x_values, density)  # plot the density of x_values\n",
    "\n",
    "feature_name = 'sepal_length'\n",
    "plot_kde(iris_df, feature_name, classes)\n",
    "\n",
    "# format the plot\n",
    "plt.xlabel(feature_name)\n",
    "plt.ylabel('density')\n",
    "plt.legend(classes);"
   ]
  },
  {
   "cell_type": "markdown",
   "metadata": {},
   "source": [
    "From these kernel density estimate plots, it seems that each class may have a different `sepal_length` distribution.  Perhaps we can use `sepal_length` to help predict the correct class.  At the very least, it seems like it could be used to help distinguish iris-setosa from iris-virginica: in most cases, if `sepal_length > 5.6` then the class is more likely to be iris-virginica than iris-setosa."
   ]
  }
 ],
 "metadata": {
  "kernelspec": {
   "display_name": "Python 2",
   "language": "python",
   "name": "python2"
  },
  "language_info": {
   "codemirror_mode": {
    "name": "ipython",
    "version": 2
   },
   "file_extension": ".py",
   "mimetype": "text/x-python",
   "name": "python",
   "nbconvert_exporter": "python",
   "pygments_lexer": "ipython2",
   "version": "2.7.12"
  },
  "toc": {
   "nav_menu": {},
   "number_sections": true,
   "sideBar": true,
   "skip_h1_title": false,
   "toc_cell": false,
   "toc_position": {},
   "toc_section_display": "block",
   "toc_window_display": false
  }
 },
 "nbformat": 4,
 "nbformat_minor": 2
}
